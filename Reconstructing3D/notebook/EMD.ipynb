{
 "cells": [
  {
   "cell_type": "code",
   "execution_count": 1,
   "metadata": {
    "scrolled": true
   },
   "outputs": [
    {
     "name": "stdout",
     "output_type": "stream",
     "text": [
      "cuda:0\n"
     ]
    }
   ],
   "source": [
    "import sys, os\n",
    "from tqdm import tqdm\n",
    "sys.path.append('../src')\n",
    "sys.path.append('../models')\n",
    "\n",
    "from architecture import modules\n",
    "from data.datasets import BarkleyDataset\n",
    "from torch.utils.data import DataLoader\n",
    "\n",
    "from sklearn.metrics import mean_absolute_error as mae\n",
    "\n",
    "import torch\n",
    "import torch.nn as nn\n",
    "\n",
    "import numpy as np\n",
    "import matplotlib.pyplot as plt\n",
    "\n",
    "import glob\n",
    "\n",
    "device = torch.device(\"cuda:0\" if torch.cuda.is_available() else \"cpu\")\n",
    "print(device)\n",
    "\n",
    "import cv2\n",
    "import ot\n",
    "\n",
    "from scipy.stats import wasserstein_distance\n",
    "\n",
    "from omegaconf import DictConfig, OmegaConf"
   ]
  },
  {
   "cell_type": "code",
   "execution_count": 2,
   "metadata": {},
   "outputs": [],
   "source": [
    "def sliced_wasserstein(X, Y, num_proj=256):\n",
    "    dim = X.shape[1]\n",
    "    ests = []\n",
    "    for _ in range(num_proj):\n",
    "        # sample uniformly from the unit sphere\n",
    "        dir = np.random.rand(dim)\n",
    "        dir /= np.linalg.norm(dir)\n",
    "\n",
    "        # project the data\n",
    "        X_proj = X @ dir\n",
    "        Y_proj = Y @ dir\n",
    "\n",
    "        # compute 1d wasserstein\n",
    "        ests.append(wasserstein_distance(X_proj, Y_proj))\n",
    "    return np.mean(ests)\n",
    "\n",
    "def multiple_wasserstein(Xs, Ys, num_proj=2048*4):\n",
    "    ests = []\n",
    "    for X, Y in tqdm(zip(Xs, Ys), total=len(Xs)):\n",
    "        est = sliced_wasserstein(X, Y)\n",
    "        ests.append(est)\n",
    "    print(np.mean(ests))\n",
    "    return np.mean(ests)\n",
    "\n",
    "def mae_b(img1, img2):\n",
    "    return mae(img1.reshape((-1,)), img2.reshape((-1,)))"
   ]
  },
  {
   "cell_type": "code",
   "execution_count": 3,
   "metadata": {},
   "outputs": [],
   "source": [
    "@torch.no_grad()\n",
    "def getYTruePredPairs(model, dataset, batch_size=4, depth=2, time_steps=1):\n",
    "    dataloader = DataLoader(dataset, batch_size)\n",
    "    \n",
    "    y_trues, y_preds = [], []\n",
    "    for i, (X,y) in tqdm(enumerate(dataloader), total=len(dataloader)):\n",
    "        X = X[:,:time_steps].to(device) # [bs,t,d,120,120]\n",
    "        y = y[:,:,:depth].cpu().detach().numpy()\n",
    "        \n",
    "        y_pred = model(X, max_depth=depth).cpu().detach().numpy()\n",
    "        \n",
    "        y_preds.append(y_pred)\n",
    "        y_trues.append(y)\n",
    "    y_preds = np.concatenate(y_preds, 0)\n",
    "    y_trues = np.concatenate(y_trues, 0) \n",
    "        \n",
    "    return y_trues, y_preds\n",
    "\n",
    "def getLossPerDepth(y_trues, y_preds, criterion=sliced_wasserstein, max_depth=32, num_examples=None): \n",
    "    losses = []\n",
    "    \n",
    "    for depth in range(max_depth):\n",
    "        print(f'Depth: {depth}')\n",
    "        loss = criterion(y_trues[:,0,depth], y_preds[:,0,depth])\n",
    "        losses.append(loss)\n",
    "        \n",
    "    return losses\n",
    "\n",
    "def getModel(model_architecture, folder=f'../../models/weights/concentric', model_file=\"CLSTM\"):\n",
    "    data_dir = os.path.abspath(folder) + '/'\n",
    "    model_architecture.load_state_dict(torch.load(data_dir + model_file, map_location=device), strict=True)\n",
    "    return model_architecture\n",
    "\n",
    "def make(cfg, t, d):\n",
    "    dataset = BarkleyDataset(root=f'../data/concentric/processed/', train=False, depth=32, time_steps=32)\n",
    "    \n",
    "    if cfg.model == \"CLSTM\":\n",
    "        model = getModel(nn.DataParallel(modules.CLSTM(1,64, directional=1)),\n",
    "                        folder=f'../models/weights/{cfg.mode}',\n",
    "                        model_file=cfg.model + f'_t{t}_d{d}').to(device)\n",
    "    elif cfg.model == \"STLSTM\":\n",
    "        model = getModel(nn.DataParallel(modules.STLSTM(1,64, directional=1)),\n",
    "                        folder=f'../models/weights/{cfg.mode}',\n",
    "                        model_file=cfg.model + f'_t{t}_d{d}').to(device)\n",
    "        \n",
    "    if cfg.emd:\n",
    "        criterion = multiple_wasserstein\n",
    "    else:\n",
    "        criterion = None\n",
    "        \n",
    "    return model, dataset, criterion"
   ]
  },
  {
   "cell_type": "code",
   "execution_count": 4,
   "metadata": {},
   "outputs": [],
   "source": [
    "cfg = {\n",
    "    \"mode\":\"concentric\", # \"concentric\", \"chaotic\"\n",
    "    \"d_max\":32,\n",
    "    \"ts\":[32,30,28,25,20,16,8,4,2,1],\n",
    "    \"model\": \"CLSTM\", # \"CLSTM\", \"STLSTM\"\n",
    "    \"emd\":False\n",
    "}\n",
    "\n",
    "cfg = OmegaConf.create(cfg)"
   ]
  },
  {
   "cell_type": "code",
   "execution_count": 6,
   "metadata": {},
   "outputs": [
    {
     "name": "stderr",
     "output_type": "stream",
     "text": [
      "100%|██████████| 128/128 [01:21<00:00,  1.57it/s]\n"
     ]
    },
    {
     "name": "stdout",
     "output_type": "stream",
     "text": [
      "Depth: 0\n",
      "Depth: 1\n",
      "Depth: 2\n",
      "Depth: 3\n",
      "Depth: 4\n",
      "Depth: 5\n",
      "Depth: 6\n",
      "Depth: 7\n",
      "Depth: 8\n",
      "Depth: 9\n",
      "Depth: 10\n",
      "Depth: 11\n",
      "Depth: 12\n",
      "Depth: 13\n",
      "Depth: 14\n",
      "Depth: 15\n",
      "Depth: 16\n",
      "Depth: 17\n",
      "Depth: 18\n",
      "Depth: 19\n",
      "Depth: 20\n",
      "Depth: 21\n",
      "Depth: 22\n",
      "Depth: 23\n",
      "Depth: 24\n"
     ]
    },
    {
     "name": "stderr",
     "output_type": "stream",
     "text": [
      "\r",
      "  0%|          | 0/512 [00:00<?, ?it/s]"
     ]
    },
    {
     "name": "stdout",
     "output_type": "stream",
     "text": [
      "Depth: 25\n",
      "Depth: 26\n",
      "Depth: 27\n",
      "Depth: 28\n",
      "Depth: 29\n",
      "Depth: 30\n",
      "Depth: 31\n",
      "Depth: 0\n"
     ]
    },
    {
     "name": "stderr",
     "output_type": "stream",
     "text": [
      "100%|██████████| 512/512 [00:12<00:00, 42.26it/s]\n",
      "  1%|          | 4/512 [00:00<00:12, 39.64it/s]"
     ]
    },
    {
     "name": "stdout",
     "output_type": "stream",
     "text": [
      "0.22888788742648816\n",
      "Depth: 1\n"
     ]
    },
    {
     "name": "stderr",
     "output_type": "stream",
     "text": [
      "100%|██████████| 512/512 [00:12<00:00, 42.02it/s]\n",
      "  1%|          | 5/512 [00:00<00:12, 42.18it/s]"
     ]
    },
    {
     "name": "stdout",
     "output_type": "stream",
     "text": [
      "0.23273056129294872\n",
      "Depth: 2\n"
     ]
    },
    {
     "name": "stderr",
     "output_type": "stream",
     "text": [
      "100%|██████████| 512/512 [00:13<00:00, 38.55it/s]\n",
      "  1%|          | 5/512 [00:00<00:12, 41.56it/s]"
     ]
    },
    {
     "name": "stdout",
     "output_type": "stream",
     "text": [
      "0.22220272938393804\n",
      "Depth: 3\n"
     ]
    },
    {
     "name": "stderr",
     "output_type": "stream",
     "text": [
      "100%|██████████| 512/512 [00:12<00:00, 40.51it/s]\n",
      "  1%|          | 5/512 [00:00<00:12, 41.21it/s]"
     ]
    },
    {
     "name": "stdout",
     "output_type": "stream",
     "text": [
      "0.22394682403107044\n",
      "Depth: 4\n"
     ]
    },
    {
     "name": "stderr",
     "output_type": "stream",
     "text": [
      "100%|██████████| 512/512 [00:12<00:00, 39.49it/s]\n",
      "  1%|          | 5/512 [00:00<00:11, 42.80it/s]"
     ]
    },
    {
     "name": "stdout",
     "output_type": "stream",
     "text": [
      "0.22347599791682438\n",
      "Depth: 5\n"
     ]
    },
    {
     "name": "stderr",
     "output_type": "stream",
     "text": [
      "100%|██████████| 512/512 [00:12<00:00, 40.08it/s]\n",
      "  1%|          | 4/512 [00:00<00:12, 39.12it/s]"
     ]
    },
    {
     "name": "stdout",
     "output_type": "stream",
     "text": [
      "0.22650361869635463\n",
      "Depth: 6\n"
     ]
    },
    {
     "name": "stderr",
     "output_type": "stream",
     "text": [
      "100%|██████████| 512/512 [00:12<00:00, 39.82it/s]\n",
      "  1%|          | 5/512 [00:00<00:12, 41.11it/s]"
     ]
    },
    {
     "name": "stdout",
     "output_type": "stream",
     "text": [
      "0.2111861115146626\n",
      "Depth: 7\n"
     ]
    },
    {
     "name": "stderr",
     "output_type": "stream",
     "text": [
      "100%|██████████| 512/512 [00:12<00:00, 40.48it/s]\n",
      "  1%|          | 4/512 [00:00<00:12, 39.21it/s]"
     ]
    },
    {
     "name": "stdout",
     "output_type": "stream",
     "text": [
      "0.21468337066179904\n",
      "Depth: 8\n"
     ]
    },
    {
     "name": "stderr",
     "output_type": "stream",
     "text": [
      "100%|██████████| 512/512 [00:12<00:00, 40.11it/s]\n",
      "  1%|          | 5/512 [00:00<00:12, 40.90it/s]"
     ]
    },
    {
     "name": "stdout",
     "output_type": "stream",
     "text": [
      "0.2267482373444911\n",
      "Depth: 9\n"
     ]
    },
    {
     "name": "stderr",
     "output_type": "stream",
     "text": [
      "100%|██████████| 512/512 [00:12<00:00, 39.96it/s]\n",
      "  1%|          | 5/512 [00:00<00:12, 41.66it/s]"
     ]
    },
    {
     "name": "stdout",
     "output_type": "stream",
     "text": [
      "0.2412497232610497\n",
      "Depth: 10\n"
     ]
    },
    {
     "name": "stderr",
     "output_type": "stream",
     "text": [
      "100%|██████████| 512/512 [00:12<00:00, 40.80it/s]\n",
      "  1%|          | 5/512 [00:00<00:11, 42.89it/s]"
     ]
    },
    {
     "name": "stdout",
     "output_type": "stream",
     "text": [
      "0.2576270123131723\n",
      "Depth: 11\n"
     ]
    },
    {
     "name": "stderr",
     "output_type": "stream",
     "text": [
      "100%|██████████| 512/512 [00:12<00:00, 41.56it/s]\n",
      "  1%|          | 5/512 [00:00<00:12, 42.21it/s]"
     ]
    },
    {
     "name": "stdout",
     "output_type": "stream",
     "text": [
      "0.27282437506745205\n",
      "Depth: 12\n"
     ]
    },
    {
     "name": "stderr",
     "output_type": "stream",
     "text": [
      "100%|██████████| 512/512 [00:12<00:00, 42.12it/s]\n",
      "  1%|          | 5/512 [00:00<00:11, 42.51it/s]"
     ]
    },
    {
     "name": "stdout",
     "output_type": "stream",
     "text": [
      "0.2911318982988601\n",
      "Depth: 13\n"
     ]
    },
    {
     "name": "stderr",
     "output_type": "stream",
     "text": [
      "100%|██████████| 512/512 [00:11<00:00, 42.74it/s]\n",
      "  1%|          | 5/512 [00:00<00:11, 43.29it/s]"
     ]
    },
    {
     "name": "stdout",
     "output_type": "stream",
     "text": [
      "0.3125065977424605\n",
      "Depth: 14\n"
     ]
    },
    {
     "name": "stderr",
     "output_type": "stream",
     "text": [
      "100%|██████████| 512/512 [00:11<00:00, 42.84it/s]\n",
      "  1%|          | 5/512 [00:00<00:11, 42.62it/s]"
     ]
    },
    {
     "name": "stdout",
     "output_type": "stream",
     "text": [
      "0.3398543289327928\n",
      "Depth: 15\n"
     ]
    },
    {
     "name": "stderr",
     "output_type": "stream",
     "text": [
      "100%|██████████| 512/512 [00:11<00:00, 42.93it/s]\n",
      "  1%|          | 5/512 [00:00<00:11, 42.89it/s]"
     ]
    },
    {
     "name": "stdout",
     "output_type": "stream",
     "text": [
      "0.36793688276244385\n",
      "Depth: 16\n"
     ]
    },
    {
     "name": "stderr",
     "output_type": "stream",
     "text": [
      "100%|██████████| 512/512 [00:11<00:00, 43.33it/s]\n",
      "  1%|          | 5/512 [00:00<00:11, 43.20it/s]"
     ]
    },
    {
     "name": "stdout",
     "output_type": "stream",
     "text": [
      "0.3950086392050719\n",
      "Depth: 17\n"
     ]
    },
    {
     "name": "stderr",
     "output_type": "stream",
     "text": [
      "100%|██████████| 512/512 [00:11<00:00, 43.32it/s]\n",
      "  1%|          | 5/512 [00:00<00:11, 43.84it/s]"
     ]
    },
    {
     "name": "stdout",
     "output_type": "stream",
     "text": [
      "0.4168654201301798\n",
      "Depth: 18\n"
     ]
    },
    {
     "name": "stderr",
     "output_type": "stream",
     "text": [
      "100%|██████████| 512/512 [00:11<00:00, 43.42it/s]\n",
      "  1%|          | 5/512 [00:00<00:11, 43.66it/s]"
     ]
    },
    {
     "name": "stdout",
     "output_type": "stream",
     "text": [
      "0.44074807759819856\n",
      "Depth: 19\n"
     ]
    },
    {
     "name": "stderr",
     "output_type": "stream",
     "text": [
      "100%|██████████| 512/512 [00:11<00:00, 43.81it/s]\n",
      "  1%|          | 5/512 [00:00<00:11, 44.44it/s]"
     ]
    },
    {
     "name": "stdout",
     "output_type": "stream",
     "text": [
      "0.47015559182331446\n",
      "Depth: 20\n"
     ]
    },
    {
     "name": "stderr",
     "output_type": "stream",
     "text": [
      "100%|██████████| 512/512 [00:11<00:00, 43.33it/s]\n",
      "  1%|          | 4/512 [00:00<00:13, 36.44it/s]"
     ]
    },
    {
     "name": "stdout",
     "output_type": "stream",
     "text": [
      "0.5005021730231033\n",
      "Depth: 21\n"
     ]
    },
    {
     "name": "stderr",
     "output_type": "stream",
     "text": [
      "100%|██████████| 512/512 [00:11<00:00, 43.88it/s]\n",
      "  1%|          | 5/512 [00:00<00:11, 42.98it/s]"
     ]
    },
    {
     "name": "stdout",
     "output_type": "stream",
     "text": [
      "0.5349245801035373\n",
      "Depth: 22\n"
     ]
    },
    {
     "name": "stderr",
     "output_type": "stream",
     "text": [
      "100%|██████████| 512/512 [00:12<00:00, 42.27it/s]\n",
      "  1%|          | 5/512 [00:00<00:11, 44.38it/s]"
     ]
    },
    {
     "name": "stdout",
     "output_type": "stream",
     "text": [
      "0.5748361890076252\n",
      "Depth: 23\n"
     ]
    },
    {
     "name": "stderr",
     "output_type": "stream",
     "text": [
      "100%|██████████| 512/512 [00:11<00:00, 43.91it/s]\n",
      "  1%|          | 5/512 [00:00<00:11, 44.56it/s]"
     ]
    },
    {
     "name": "stdout",
     "output_type": "stream",
     "text": [
      "0.6092985040090395\n",
      "Depth: 24\n"
     ]
    },
    {
     "name": "stderr",
     "output_type": "stream",
     "text": [
      "100%|██████████| 512/512 [00:11<00:00, 44.01it/s]\n",
      "  1%|          | 5/512 [00:00<00:11, 44.85it/s]"
     ]
    },
    {
     "name": "stdout",
     "output_type": "stream",
     "text": [
      "0.6383104594224273\n",
      "Depth: 25\n"
     ]
    },
    {
     "name": "stderr",
     "output_type": "stream",
     "text": [
      "100%|██████████| 512/512 [00:11<00:00, 44.00it/s]\n",
      "  1%|          | 5/512 [00:00<00:11, 44.95it/s]"
     ]
    },
    {
     "name": "stdout",
     "output_type": "stream",
     "text": [
      "0.6626720759398315\n",
      "Depth: 26\n"
     ]
    },
    {
     "name": "stderr",
     "output_type": "stream",
     "text": [
      "100%|██████████| 512/512 [00:11<00:00, 45.13it/s]\n",
      "  1%|          | 5/512 [00:00<00:11, 45.11it/s]"
     ]
    },
    {
     "name": "stdout",
     "output_type": "stream",
     "text": [
      "0.6834145666687819\n",
      "Depth: 27\n"
     ]
    },
    {
     "name": "stderr",
     "output_type": "stream",
     "text": [
      "100%|██████████| 512/512 [00:11<00:00, 44.80it/s]\n",
      "  1%|          | 5/512 [00:00<00:12, 40.81it/s]"
     ]
    },
    {
     "name": "stdout",
     "output_type": "stream",
     "text": [
      "0.6913269436702796\n",
      "Depth: 28\n"
     ]
    },
    {
     "name": "stderr",
     "output_type": "stream",
     "text": [
      "100%|██████████| 512/512 [00:11<00:00, 43.61it/s]\n",
      "  1%|          | 5/512 [00:00<00:11, 43.83it/s]"
     ]
    },
    {
     "name": "stdout",
     "output_type": "stream",
     "text": [
      "0.6979056295467039\n",
      "Depth: 29\n"
     ]
    },
    {
     "name": "stderr",
     "output_type": "stream",
     "text": [
      "100%|██████████| 512/512 [00:11<00:00, 44.22it/s]\n",
      "  1%|          | 5/512 [00:00<00:11, 43.97it/s]"
     ]
    },
    {
     "name": "stdout",
     "output_type": "stream",
     "text": [
      "0.7115020922834712\n",
      "Depth: 30\n"
     ]
    },
    {
     "name": "stderr",
     "output_type": "stream",
     "text": [
      "100%|██████████| 512/512 [00:11<00:00, 43.80it/s]\n",
      "  1%|          | 5/512 [00:00<00:11, 43.95it/s]"
     ]
    },
    {
     "name": "stdout",
     "output_type": "stream",
     "text": [
      "0.721455379019464\n",
      "Depth: 31\n"
     ]
    },
    {
     "name": "stderr",
     "output_type": "stream",
     "text": [
      "100%|██████████| 512/512 [00:11<00:00, 44.44it/s]\n"
     ]
    },
    {
     "name": "stdout",
     "output_type": "stream",
     "text": [
      "0.7321394714275424\n"
     ]
    },
    {
     "name": "stderr",
     "output_type": "stream",
     "text": [
      "100%|██████████| 128/128 [01:19<00:00,  1.60it/s]\n"
     ]
    },
    {
     "name": "stdout",
     "output_type": "stream",
     "text": [
      "Depth: 0\n",
      "Depth: 1\n",
      "Depth: 2\n",
      "Depth: 3\n",
      "Depth: 4\n",
      "Depth: 5\n",
      "Depth: 6\n",
      "Depth: 7\n",
      "Depth: 8\n",
      "Depth: 9\n",
      "Depth: 10\n",
      "Depth: 11\n",
      "Depth: 12\n",
      "Depth: 13\n",
      "Depth: 14\n",
      "Depth: 15\n",
      "Depth: 16\n",
      "Depth: 17\n",
      "Depth: 18\n",
      "Depth: 19\n",
      "Depth: 20\n",
      "Depth: 21\n",
      "Depth: 22\n",
      "Depth: 23\n",
      "Depth: 24\n",
      "Depth: 25\n"
     ]
    },
    {
     "name": "stderr",
     "output_type": "stream",
     "text": [
      "\r",
      "  0%|          | 0/512 [00:00<?, ?it/s]"
     ]
    },
    {
     "name": "stdout",
     "output_type": "stream",
     "text": [
      "Depth: 26\n",
      "Depth: 27\n",
      "Depth: 28\n",
      "Depth: 29\n",
      "Depth: 30\n",
      "Depth: 31\n",
      "Depth: 0\n"
     ]
    },
    {
     "name": "stderr",
     "output_type": "stream",
     "text": [
      "100%|██████████| 512/512 [00:11<00:00, 42.92it/s]\n",
      "  1%|          | 5/512 [00:00<00:11, 42.68it/s]"
     ]
    },
    {
     "name": "stdout",
     "output_type": "stream",
     "text": [
      "0.18205377300329245\n",
      "Depth: 1\n"
     ]
    },
    {
     "name": "stderr",
     "output_type": "stream",
     "text": [
      "100%|██████████| 512/512 [00:12<00:00, 41.89it/s]\n",
      "  1%|          | 5/512 [00:00<00:11, 42.49it/s]"
     ]
    },
    {
     "name": "stdout",
     "output_type": "stream",
     "text": [
      "0.1958751516896327\n",
      "Depth: 2\n"
     ]
    },
    {
     "name": "stderr",
     "output_type": "stream",
     "text": [
      "100%|██████████| 512/512 [00:12<00:00, 41.01it/s]\n",
      "  1%|          | 5/512 [00:00<00:12, 41.99it/s]"
     ]
    },
    {
     "name": "stdout",
     "output_type": "stream",
     "text": [
      "0.19581577808012274\n",
      "Depth: 3\n"
     ]
    },
    {
     "name": "stderr",
     "output_type": "stream",
     "text": [
      "100%|██████████| 512/512 [00:12<00:00, 40.85it/s]\n",
      "  1%|          | 5/512 [00:00<00:11, 42.33it/s]"
     ]
    },
    {
     "name": "stdout",
     "output_type": "stream",
     "text": [
      "0.19024557427959113\n",
      "Depth: 4\n"
     ]
    },
    {
     "name": "stderr",
     "output_type": "stream",
     "text": [
      "100%|██████████| 512/512 [00:12<00:00, 41.60it/s]\n",
      "  1%|          | 5/512 [00:00<00:12, 41.86it/s]"
     ]
    },
    {
     "name": "stdout",
     "output_type": "stream",
     "text": [
      "0.1879408451001042\n",
      "Depth: 5\n"
     ]
    },
    {
     "name": "stderr",
     "output_type": "stream",
     "text": [
      "100%|██████████| 512/512 [00:12<00:00, 41.71it/s]\n",
      "  1%|          | 5/512 [00:00<00:12, 42.05it/s]"
     ]
    },
    {
     "name": "stdout",
     "output_type": "stream",
     "text": [
      "0.2044442598908751\n",
      "Depth: 6\n"
     ]
    },
    {
     "name": "stderr",
     "output_type": "stream",
     "text": [
      "100%|██████████| 512/512 [00:12<00:00, 41.42it/s]\n",
      "  1%|          | 5/512 [00:00<00:12, 40.81it/s]"
     ]
    },
    {
     "name": "stdout",
     "output_type": "stream",
     "text": [
      "0.20183151038513863\n",
      "Depth: 7\n"
     ]
    },
    {
     "name": "stderr",
     "output_type": "stream",
     "text": [
      "100%|██████████| 512/512 [00:12<00:00, 41.77it/s]\n",
      "  1%|          | 5/512 [00:00<00:12, 41.34it/s]"
     ]
    },
    {
     "name": "stdout",
     "output_type": "stream",
     "text": [
      "0.20179818055784857\n",
      "Depth: 8\n"
     ]
    },
    {
     "name": "stderr",
     "output_type": "stream",
     "text": [
      "100%|██████████| 512/512 [00:12<00:00, 41.86it/s]\n",
      "  1%|          | 5/512 [00:00<00:12, 42.11it/s]"
     ]
    },
    {
     "name": "stdout",
     "output_type": "stream",
     "text": [
      "0.21000049250091535\n",
      "Depth: 9\n"
     ]
    },
    {
     "name": "stderr",
     "output_type": "stream",
     "text": [
      "100%|██████████| 512/512 [00:12<00:00, 42.64it/s]\n",
      "  1%|          | 5/512 [00:00<00:12, 41.23it/s]"
     ]
    },
    {
     "name": "stdout",
     "output_type": "stream",
     "text": [
      "0.21954431846258707\n",
      "Depth: 10\n"
     ]
    },
    {
     "name": "stderr",
     "output_type": "stream",
     "text": [
      "100%|██████████| 512/512 [00:12<00:00, 41.27it/s]\n",
      "  1%|          | 5/512 [00:00<00:12, 40.24it/s]"
     ]
    },
    {
     "name": "stdout",
     "output_type": "stream",
     "text": [
      "0.23372979795817303\n",
      "Depth: 11\n"
     ]
    },
    {
     "name": "stderr",
     "output_type": "stream",
     "text": [
      "100%|██████████| 512/512 [00:13<00:00, 38.57it/s]\n",
      "  1%|          | 4/512 [00:00<00:14, 35.14it/s]"
     ]
    },
    {
     "name": "stdout",
     "output_type": "stream",
     "text": [
      "0.24760603954319427\n",
      "Depth: 12\n"
     ]
    },
    {
     "name": "stderr",
     "output_type": "stream",
     "text": [
      "100%|██████████| 512/512 [00:14<00:00, 34.85it/s]\n",
      "  1%|          | 4/512 [00:00<00:14, 35.61it/s]"
     ]
    },
    {
     "name": "stdout",
     "output_type": "stream",
     "text": [
      "0.26695305022153826\n",
      "Depth: 13\n"
     ]
    },
    {
     "name": "stderr",
     "output_type": "stream",
     "text": [
      "100%|██████████| 512/512 [00:14<00:00, 34.46it/s]\n",
      "  1%|          | 4/512 [00:00<00:14, 34.60it/s]"
     ]
    },
    {
     "name": "stdout",
     "output_type": "stream",
     "text": [
      "0.2886243281425439\n",
      "Depth: 14\n"
     ]
    },
    {
     "name": "stderr",
     "output_type": "stream",
     "text": [
      "100%|██████████| 512/512 [00:14<00:00, 34.61it/s]\n",
      "  1%|          | 4/512 [00:00<00:14, 34.94it/s]"
     ]
    },
    {
     "name": "stdout",
     "output_type": "stream",
     "text": [
      "0.3132713811986577\n",
      "Depth: 15\n"
     ]
    },
    {
     "name": "stderr",
     "output_type": "stream",
     "text": [
      "100%|██████████| 512/512 [00:14<00:00, 34.92it/s]\n",
      "  1%|          | 4/512 [00:00<00:14, 35.46it/s]"
     ]
    },
    {
     "name": "stdout",
     "output_type": "stream",
     "text": [
      "0.3385893707398684\n",
      "Depth: 16\n"
     ]
    },
    {
     "name": "stderr",
     "output_type": "stream",
     "text": [
      "100%|██████████| 512/512 [00:14<00:00, 34.39it/s]\n",
      "  1%|          | 4/512 [00:00<00:14, 34.02it/s]"
     ]
    },
    {
     "name": "stdout",
     "output_type": "stream",
     "text": [
      "0.3648855417662694\n",
      "Depth: 17\n"
     ]
    },
    {
     "name": "stderr",
     "output_type": "stream",
     "text": [
      "100%|██████████| 512/512 [00:14<00:00, 34.19it/s]\n",
      "  1%|          | 4/512 [00:00<00:14, 35.92it/s]"
     ]
    },
    {
     "name": "stdout",
     "output_type": "stream",
     "text": [
      "0.38431545805001227\n",
      "Depth: 18\n"
     ]
    },
    {
     "name": "stderr",
     "output_type": "stream",
     "text": [
      "100%|██████████| 512/512 [00:13<00:00, 39.35it/s]\n",
      "  1%|          | 4/512 [00:00<00:13, 38.67it/s]"
     ]
    },
    {
     "name": "stdout",
     "output_type": "stream",
     "text": [
      "0.4038566470244179\n",
      "Depth: 19\n"
     ]
    },
    {
     "name": "stderr",
     "output_type": "stream",
     "text": [
      "100%|██████████| 512/512 [00:13<00:00, 38.93it/s]\n",
      "  1%|          | 4/512 [00:00<00:12, 39.96it/s]"
     ]
    },
    {
     "name": "stdout",
     "output_type": "stream",
     "text": [
      "0.42713725805281527\n",
      "Depth: 20\n"
     ]
    },
    {
     "name": "stderr",
     "output_type": "stream",
     "text": [
      "100%|██████████| 512/512 [00:13<00:00, 39.30it/s]\n",
      "  1%|          | 4/512 [00:00<00:13, 38.53it/s]"
     ]
    },
    {
     "name": "stdout",
     "output_type": "stream",
     "text": [
      "0.4530587854540429\n",
      "Depth: 21\n"
     ]
    },
    {
     "name": "stderr",
     "output_type": "stream",
     "text": [
      "100%|██████████| 512/512 [00:12<00:00, 39.71it/s]\n",
      "  1%|          | 5/512 [00:00<00:12, 41.23it/s]"
     ]
    },
    {
     "name": "stdout",
     "output_type": "stream",
     "text": [
      "0.48680110187523407\n",
      "Depth: 22\n"
     ]
    },
    {
     "name": "stderr",
     "output_type": "stream",
     "text": [
      "100%|██████████| 512/512 [00:12<00:00, 40.57it/s]\n",
      "  1%|          | 5/512 [00:00<00:12, 41.37it/s]"
     ]
    },
    {
     "name": "stdout",
     "output_type": "stream",
     "text": [
      "0.5286702919003883\n",
      "Depth: 23\n"
     ]
    },
    {
     "name": "stderr",
     "output_type": "stream",
     "text": [
      "100%|██████████| 512/512 [00:12<00:00, 39.70it/s]\n",
      "  1%|          | 5/512 [00:00<00:12, 41.07it/s]"
     ]
    },
    {
     "name": "stdout",
     "output_type": "stream",
     "text": [
      "0.5657958888919425\n",
      "Depth: 24\n"
     ]
    },
    {
     "name": "stderr",
     "output_type": "stream",
     "text": [
      "100%|██████████| 512/512 [00:12<00:00, 40.91it/s]\n",
      "  1%|          | 5/512 [00:00<00:11, 43.02it/s]"
     ]
    },
    {
     "name": "stdout",
     "output_type": "stream",
     "text": [
      "0.5969462676739543\n",
      "Depth: 25\n"
     ]
    },
    {
     "name": "stderr",
     "output_type": "stream",
     "text": [
      "100%|██████████| 512/512 [00:13<00:00, 39.07it/s]\n",
      "  1%|          | 5/512 [00:00<00:12, 40.61it/s]"
     ]
    },
    {
     "name": "stdout",
     "output_type": "stream",
     "text": [
      "0.6248538396175903\n",
      "Depth: 26\n"
     ]
    },
    {
     "name": "stderr",
     "output_type": "stream",
     "text": [
      "100%|██████████| 512/512 [00:12<00:00, 39.90it/s]\n",
      "  1%|          | 5/512 [00:00<00:12, 41.37it/s]"
     ]
    },
    {
     "name": "stdout",
     "output_type": "stream",
     "text": [
      "0.6490987708877505\n",
      "Depth: 27\n"
     ]
    },
    {
     "name": "stderr",
     "output_type": "stream",
     "text": [
      "100%|██████████| 512/512 [00:12<00:00, 39.44it/s]\n",
      "  1%|          | 5/512 [00:00<00:12, 40.86it/s]"
     ]
    },
    {
     "name": "stdout",
     "output_type": "stream",
     "text": [
      "0.6600834646872082\n",
      "Depth: 28\n"
     ]
    },
    {
     "name": "stderr",
     "output_type": "stream",
     "text": [
      "100%|██████████| 512/512 [00:12<00:00, 39.54it/s]\n",
      "  1%|          | 5/512 [00:00<00:12, 41.04it/s]"
     ]
    },
    {
     "name": "stdout",
     "output_type": "stream",
     "text": [
      "0.6692998590408707\n",
      "Depth: 29\n"
     ]
    },
    {
     "name": "stderr",
     "output_type": "stream",
     "text": [
      "100%|██████████| 512/512 [00:12<00:00, 40.34it/s]\n",
      "  1%|          | 5/512 [00:00<00:12, 41.19it/s]"
     ]
    },
    {
     "name": "stdout",
     "output_type": "stream",
     "text": [
      "0.6872437505426578\n",
      "Depth: 30\n"
     ]
    },
    {
     "name": "stderr",
     "output_type": "stream",
     "text": [
      "100%|██████████| 512/512 [00:12<00:00, 39.88it/s]\n",
      "  1%|          | 4/512 [00:00<00:12, 39.09it/s]"
     ]
    },
    {
     "name": "stdout",
     "output_type": "stream",
     "text": [
      "0.7013446400989984\n",
      "Depth: 31\n"
     ]
    },
    {
     "name": "stderr",
     "output_type": "stream",
     "text": [
      "100%|██████████| 512/512 [00:12<00:00, 40.13it/s]\n"
     ]
    },
    {
     "name": "stdout",
     "output_type": "stream",
     "text": [
      "0.7175009451641167\n"
     ]
    },
    {
     "name": "stderr",
     "output_type": "stream",
     "text": [
      "100%|██████████| 128/128 [01:21<00:00,  1.57it/s]\n"
     ]
    },
    {
     "name": "stdout",
     "output_type": "stream",
     "text": [
      "Depth: 0\n",
      "Depth: 1\n",
      "Depth: 2\n",
      "Depth: 3\n",
      "Depth: 4\n",
      "Depth: 5\n",
      "Depth: 6\n",
      "Depth: 7\n",
      "Depth: 8\n",
      "Depth: 9\n",
      "Depth: 10\n",
      "Depth: 11\n",
      "Depth: 12\n",
      "Depth: 13\n",
      "Depth: 14\n",
      "Depth: 15\n",
      "Depth: 16\n",
      "Depth: 17\n",
      "Depth: 18\n",
      "Depth: 19\n",
      "Depth: 20\n",
      "Depth: 21\n",
      "Depth: 22\n",
      "Depth: 23\n",
      "Depth: 24\n",
      "Depth: 25\n"
     ]
    },
    {
     "name": "stderr",
     "output_type": "stream",
     "text": [
      "\r",
      "  0%|          | 0/512 [00:00<?, ?it/s]"
     ]
    },
    {
     "name": "stdout",
     "output_type": "stream",
     "text": [
      "Depth: 26\n",
      "Depth: 27\n",
      "Depth: 28\n",
      "Depth: 29\n",
      "Depth: 30\n",
      "Depth: 31\n",
      "Depth: 0\n"
     ]
    },
    {
     "name": "stderr",
     "output_type": "stream",
     "text": [
      "100%|██████████| 512/512 [00:13<00:00, 38.44it/s]\n",
      "  1%|          | 4/512 [00:00<00:13, 38.61it/s]"
     ]
    },
    {
     "name": "stdout",
     "output_type": "stream",
     "text": [
      "0.25726762504782347\n",
      "Depth: 1\n"
     ]
    },
    {
     "name": "stderr",
     "output_type": "stream",
     "text": [
      "100%|██████████| 512/512 [00:13<00:00, 39.12it/s]\n",
      "  1%|          | 4/512 [00:00<00:14, 35.99it/s]"
     ]
    },
    {
     "name": "stdout",
     "output_type": "stream",
     "text": [
      "0.258102048155934\n",
      "Depth: 2\n"
     ]
    },
    {
     "name": "stderr",
     "output_type": "stream",
     "text": [
      "100%|██████████| 512/512 [00:13<00:00, 39.05it/s]\n",
      "  1%|          | 4/512 [00:00<00:12, 39.97it/s]"
     ]
    },
    {
     "name": "stdout",
     "output_type": "stream",
     "text": [
      "0.25470431068570054\n",
      "Depth: 3\n"
     ]
    },
    {
     "name": "stderr",
     "output_type": "stream",
     "text": [
      "100%|██████████| 512/512 [00:13<00:00, 39.07it/s]\n",
      "  1%|          | 4/512 [00:00<00:13, 38.80it/s]"
     ]
    },
    {
     "name": "stdout",
     "output_type": "stream",
     "text": [
      "0.2569248966664743\n",
      "Depth: 4\n"
     ]
    },
    {
     "name": "stderr",
     "output_type": "stream",
     "text": [
      "100%|██████████| 512/512 [00:12<00:00, 39.52it/s]\n",
      "  1%|          | 4/512 [00:00<00:12, 39.88it/s]"
     ]
    },
    {
     "name": "stdout",
     "output_type": "stream",
     "text": [
      "0.2725487017421212\n",
      "Depth: 5\n"
     ]
    },
    {
     "name": "stderr",
     "output_type": "stream",
     "text": [
      "100%|██████████| 512/512 [00:12<00:00, 39.62it/s]\n",
      "  1%|          | 4/512 [00:00<00:13, 38.71it/s]"
     ]
    },
    {
     "name": "stdout",
     "output_type": "stream",
     "text": [
      "0.291164802203694\n",
      "Depth: 6\n"
     ]
    },
    {
     "name": "stderr",
     "output_type": "stream",
     "text": [
      "100%|██████████| 512/512 [00:12<00:00, 39.80it/s]\n",
      "  1%|          | 4/512 [00:00<00:13, 38.73it/s]"
     ]
    },
    {
     "name": "stdout",
     "output_type": "stream",
     "text": [
      "0.28217996452433936\n",
      "Depth: 7\n"
     ]
    },
    {
     "name": "stderr",
     "output_type": "stream",
     "text": [
      "100%|██████████| 512/512 [00:12<00:00, 39.86it/s]\n",
      "  1%|          | 4/512 [00:00<00:13, 37.78it/s]"
     ]
    },
    {
     "name": "stdout",
     "output_type": "stream",
     "text": [
      "0.26931839062819374\n",
      "Depth: 8\n"
     ]
    },
    {
     "name": "stderr",
     "output_type": "stream",
     "text": [
      "100%|██████████| 512/512 [00:12<00:00, 40.46it/s]\n",
      "  1%|          | 5/512 [00:00<00:12, 40.11it/s]"
     ]
    },
    {
     "name": "stdout",
     "output_type": "stream",
     "text": [
      "0.2687145218167308\n",
      "Depth: 9\n"
     ]
    },
    {
     "name": "stderr",
     "output_type": "stream",
     "text": [
      "100%|██████████| 512/512 [00:12<00:00, 40.43it/s]\n",
      "  1%|          | 4/512 [00:00<00:14, 36.03it/s]"
     ]
    },
    {
     "name": "stdout",
     "output_type": "stream",
     "text": [
      "0.27178350561579456\n",
      "Depth: 10\n"
     ]
    },
    {
     "name": "stderr",
     "output_type": "stream",
     "text": [
      "100%|██████████| 512/512 [00:13<00:00, 39.24it/s]\n",
      "  1%|          | 4/512 [00:00<00:12, 39.18it/s]"
     ]
    },
    {
     "name": "stdout",
     "output_type": "stream",
     "text": [
      "0.28260372519480637\n",
      "Depth: 11\n"
     ]
    },
    {
     "name": "stderr",
     "output_type": "stream",
     "text": [
      "100%|██████████| 512/512 [00:12<00:00, 40.22it/s]\n",
      "  1%|          | 5/512 [00:00<00:12, 41.29it/s]"
     ]
    },
    {
     "name": "stdout",
     "output_type": "stream",
     "text": [
      "0.2988180495219428\n",
      "Depth: 12\n"
     ]
    },
    {
     "name": "stderr",
     "output_type": "stream",
     "text": [
      "100%|██████████| 512/512 [00:12<00:00, 39.42it/s]\n",
      "  1%|          | 5/512 [00:00<00:12, 40.19it/s]"
     ]
    },
    {
     "name": "stdout",
     "output_type": "stream",
     "text": [
      "0.31734458447314373\n",
      "Depth: 13\n"
     ]
    },
    {
     "name": "stderr",
     "output_type": "stream",
     "text": [
      "100%|██████████| 512/512 [00:12<00:00, 40.72it/s]\n",
      "  1%|          | 5/512 [00:00<00:12, 40.71it/s]"
     ]
    },
    {
     "name": "stdout",
     "output_type": "stream",
     "text": [
      "0.33767833813501263\n",
      "Depth: 14\n"
     ]
    },
    {
     "name": "stderr",
     "output_type": "stream",
     "text": [
      "100%|██████████| 512/512 [00:12<00:00, 40.41it/s]\n",
      "  1%|          | 5/512 [00:00<00:12, 40.82it/s]"
     ]
    },
    {
     "name": "stdout",
     "output_type": "stream",
     "text": [
      "0.36884444732087573\n",
      "Depth: 15\n"
     ]
    },
    {
     "name": "stderr",
     "output_type": "stream",
     "text": [
      "100%|██████████| 512/512 [00:12<00:00, 40.24it/s]\n",
      "  1%|          | 4/512 [00:00<00:14, 35.83it/s]"
     ]
    },
    {
     "name": "stdout",
     "output_type": "stream",
     "text": [
      "0.39842976153419063\n",
      "Depth: 16\n"
     ]
    },
    {
     "name": "stderr",
     "output_type": "stream",
     "text": [
      "100%|██████████| 512/512 [00:12<00:00, 40.12it/s]\n",
      "  1%|          | 4/512 [00:00<00:13, 36.91it/s]"
     ]
    },
    {
     "name": "stdout",
     "output_type": "stream",
     "text": [
      "0.4222792138129494\n",
      "Depth: 17\n"
     ]
    },
    {
     "name": "stderr",
     "output_type": "stream",
     "text": [
      "100%|██████████| 512/512 [00:12<00:00, 40.88it/s]\n",
      "  1%|          | 5/512 [00:00<00:12, 41.79it/s]"
     ]
    },
    {
     "name": "stdout",
     "output_type": "stream",
     "text": [
      "0.44197646322015816\n",
      "Depth: 18\n"
     ]
    },
    {
     "name": "stderr",
     "output_type": "stream",
     "text": [
      "100%|██████████| 512/512 [00:12<00:00, 40.31it/s]\n",
      "  1%|          | 4/512 [00:00<00:12, 39.13it/s]"
     ]
    },
    {
     "name": "stdout",
     "output_type": "stream",
     "text": [
      "0.4628067463309663\n",
      "Depth: 19\n"
     ]
    },
    {
     "name": "stderr",
     "output_type": "stream",
     "text": [
      "100%|██████████| 512/512 [00:12<00:00, 40.62it/s]\n",
      "  1%|          | 5/512 [00:00<00:12, 40.63it/s]"
     ]
    },
    {
     "name": "stdout",
     "output_type": "stream",
     "text": [
      "0.48724768411113795\n",
      "Depth: 20\n"
     ]
    },
    {
     "name": "stderr",
     "output_type": "stream",
     "text": [
      "100%|██████████| 512/512 [00:12<00:00, 40.36it/s]\n",
      "  1%|          | 5/512 [00:00<00:12, 40.29it/s]"
     ]
    },
    {
     "name": "stdout",
     "output_type": "stream",
     "text": [
      "0.5131242649550719\n",
      "Depth: 21\n"
     ]
    },
    {
     "name": "stderr",
     "output_type": "stream",
     "text": [
      "100%|██████████| 512/512 [00:12<00:00, 39.79it/s]\n",
      "  1%|          | 5/512 [00:00<00:12, 41.25it/s]"
     ]
    },
    {
     "name": "stdout",
     "output_type": "stream",
     "text": [
      "0.5442745743686244\n",
      "Depth: 22\n"
     ]
    },
    {
     "name": "stderr",
     "output_type": "stream",
     "text": [
      "100%|██████████| 512/512 [00:12<00:00, 41.63it/s]\n",
      "  1%|          | 5/512 [00:00<00:11, 43.74it/s]"
     ]
    },
    {
     "name": "stdout",
     "output_type": "stream",
     "text": [
      "0.5848189602734664\n",
      "Depth: 23\n"
     ]
    },
    {
     "name": "stderr",
     "output_type": "stream",
     "text": [
      "100%|██████████| 512/512 [00:12<00:00, 41.29it/s]\n",
      "  1%|          | 5/512 [00:00<00:12, 41.75it/s]"
     ]
    },
    {
     "name": "stdout",
     "output_type": "stream",
     "text": [
      "0.6216968262880187\n",
      "Depth: 24\n"
     ]
    },
    {
     "name": "stderr",
     "output_type": "stream",
     "text": [
      "100%|██████████| 512/512 [00:12<00:00, 40.18it/s]\n",
      "  1%|          | 4/512 [00:00<00:12, 39.41it/s]"
     ]
    },
    {
     "name": "stdout",
     "output_type": "stream",
     "text": [
      "0.653516249623204\n",
      "Depth: 25\n"
     ]
    },
    {
     "name": "stderr",
     "output_type": "stream",
     "text": [
      "100%|██████████| 512/512 [00:13<00:00, 38.90it/s]\n",
      "  1%|          | 4/512 [00:00<00:13, 37.69it/s]"
     ]
    },
    {
     "name": "stdout",
     "output_type": "stream",
     "text": [
      "0.679203529831718\n",
      "Depth: 26\n"
     ]
    },
    {
     "name": "stderr",
     "output_type": "stream",
     "text": [
      "100%|██████████| 512/512 [00:12<00:00, 40.23it/s]\n",
      "  1%|          | 5/512 [00:00<00:12, 40.98it/s]"
     ]
    },
    {
     "name": "stdout",
     "output_type": "stream",
     "text": [
      "0.7009356441687868\n",
      "Depth: 27\n"
     ]
    },
    {
     "name": "stderr",
     "output_type": "stream",
     "text": [
      "100%|██████████| 512/512 [00:12<00:00, 39.65it/s]\n",
      "  1%|          | 4/512 [00:00<00:15, 33.85it/s]"
     ]
    },
    {
     "name": "stdout",
     "output_type": "stream",
     "text": [
      "0.7089557759373009\n",
      "Depth: 28\n"
     ]
    },
    {
     "name": "stderr",
     "output_type": "stream",
     "text": [
      "100%|██████████| 512/512 [00:14<00:00, 35.14it/s]\n",
      "  1%|          | 4/512 [00:00<00:14, 34.78it/s]"
     ]
    },
    {
     "name": "stdout",
     "output_type": "stream",
     "text": [
      "0.7156994036501512\n",
      "Depth: 29\n"
     ]
    },
    {
     "name": "stderr",
     "output_type": "stream",
     "text": [
      "100%|██████████| 512/512 [00:14<00:00, 35.37it/s]\n",
      "  1%|          | 4/512 [00:00<00:13, 39.03it/s]"
     ]
    },
    {
     "name": "stdout",
     "output_type": "stream",
     "text": [
      "0.7305146274432909\n",
      "Depth: 30\n"
     ]
    },
    {
     "name": "stderr",
     "output_type": "stream",
     "text": [
      "100%|██████████| 512/512 [00:13<00:00, 36.76it/s]\n",
      "  1%|          | 4/512 [00:00<00:14, 35.85it/s]"
     ]
    },
    {
     "name": "stdout",
     "output_type": "stream",
     "text": [
      "0.7435737954097642\n",
      "Depth: 31\n"
     ]
    },
    {
     "name": "stderr",
     "output_type": "stream",
     "text": [
      "100%|██████████| 512/512 [00:14<00:00, 35.51it/s]\n"
     ]
    },
    {
     "name": "stdout",
     "output_type": "stream",
     "text": [
      "0.7546017505531366\n"
     ]
    },
    {
     "name": "stderr",
     "output_type": "stream",
     "text": [
      "100%|██████████| 128/128 [01:20<00:00,  1.58it/s]\n"
     ]
    },
    {
     "name": "stdout",
     "output_type": "stream",
     "text": [
      "Depth: 0\n",
      "Depth: 1\n",
      "Depth: 2\n",
      "Depth: 3\n",
      "Depth: 4\n",
      "Depth: 5\n",
      "Depth: 6\n",
      "Depth: 7\n",
      "Depth: 8\n",
      "Depth: 9\n",
      "Depth: 10\n",
      "Depth: 11\n",
      "Depth: 12\n",
      "Depth: 13\n",
      "Depth: 14\n",
      "Depth: 15\n",
      "Depth: 16\n",
      "Depth: 17\n",
      "Depth: 18\n",
      "Depth: 19\n",
      "Depth: 20\n",
      "Depth: 21\n",
      "Depth: 22\n",
      "Depth: 23\n",
      "Depth: 24\n",
      "Depth: 25\n",
      "Depth: 26\n",
      "Depth: 27\n",
      "Depth: 28\n",
      "Depth: 29\n",
      "Depth: 30\n",
      "Depth: 31\n"
     ]
    },
    {
     "name": "stderr",
     "output_type": "stream",
     "text": [
      "  1%|          | 4/512 [00:00<00:13, 37.36it/s]"
     ]
    },
    {
     "name": "stdout",
     "output_type": "stream",
     "text": [
      "Depth: 0\n"
     ]
    },
    {
     "name": "stderr",
     "output_type": "stream",
     "text": [
      "100%|██████████| 512/512 [00:14<00:00, 34.91it/s]\n",
      "  1%|          | 4/512 [00:00<00:14, 35.63it/s]"
     ]
    },
    {
     "name": "stdout",
     "output_type": "stream",
     "text": [
      "0.17969316718902098\n",
      "Depth: 1\n"
     ]
    },
    {
     "name": "stderr",
     "output_type": "stream",
     "text": [
      "100%|██████████| 512/512 [00:14<00:00, 36.14it/s]\n",
      "  1%|          | 4/512 [00:00<00:14, 35.30it/s]"
     ]
    },
    {
     "name": "stdout",
     "output_type": "stream",
     "text": [
      "0.1909462256094726\n",
      "Depth: 2\n"
     ]
    },
    {
     "name": "stderr",
     "output_type": "stream",
     "text": [
      "100%|██████████| 512/512 [00:14<00:00, 35.95it/s]\n",
      "  1%|          | 4/512 [00:00<00:14, 34.53it/s]"
     ]
    },
    {
     "name": "stdout",
     "output_type": "stream",
     "text": [
      "0.17208467057518329\n",
      "Depth: 3\n"
     ]
    },
    {
     "name": "stderr",
     "output_type": "stream",
     "text": [
      "100%|██████████| 512/512 [00:14<00:00, 35.60it/s]\n",
      "  1%|          | 4/512 [00:00<00:13, 36.76it/s]"
     ]
    },
    {
     "name": "stdout",
     "output_type": "stream",
     "text": [
      "0.17674356387258117\n",
      "Depth: 4\n"
     ]
    },
    {
     "name": "stderr",
     "output_type": "stream",
     "text": [
      "100%|██████████| 512/512 [00:14<00:00, 36.22it/s]\n",
      "  1%|          | 4/512 [00:00<00:13, 36.77it/s]"
     ]
    },
    {
     "name": "stdout",
     "output_type": "stream",
     "text": [
      "0.1818689309682136\n",
      "Depth: 5\n"
     ]
    },
    {
     "name": "stderr",
     "output_type": "stream",
     "text": [
      "100%|██████████| 512/512 [00:13<00:00, 36.60it/s]\n",
      "  1%|          | 4/512 [00:00<00:12, 39.75it/s]"
     ]
    },
    {
     "name": "stdout",
     "output_type": "stream",
     "text": [
      "0.18679240926910778\n",
      "Depth: 6\n"
     ]
    },
    {
     "name": "stderr",
     "output_type": "stream",
     "text": [
      "100%|██████████| 512/512 [00:13<00:00, 36.87it/s]\n",
      "  1%|          | 4/512 [00:00<00:14, 36.19it/s]"
     ]
    },
    {
     "name": "stdout",
     "output_type": "stream",
     "text": [
      "0.20221854793016694\n",
      "Depth: 7\n"
     ]
    },
    {
     "name": "stderr",
     "output_type": "stream",
     "text": [
      "100%|██████████| 512/512 [00:13<00:00, 36.72it/s]\n",
      "  1%|          | 4/512 [00:00<00:13, 37.52it/s]"
     ]
    },
    {
     "name": "stdout",
     "output_type": "stream",
     "text": [
      "0.1987064258690175\n",
      "Depth: 8\n"
     ]
    },
    {
     "name": "stderr",
     "output_type": "stream",
     "text": [
      "100%|██████████| 512/512 [00:13<00:00, 37.21it/s]\n",
      "  1%|          | 4/512 [00:00<00:14, 34.39it/s]"
     ]
    },
    {
     "name": "stdout",
     "output_type": "stream",
     "text": [
      "0.20308811225562345\n",
      "Depth: 9\n"
     ]
    },
    {
     "name": "stderr",
     "output_type": "stream",
     "text": [
      "100%|██████████| 512/512 [00:13<00:00, 36.99it/s]\n",
      "  1%|          | 4/512 [00:00<00:13, 38.17it/s]"
     ]
    },
    {
     "name": "stdout",
     "output_type": "stream",
     "text": [
      "0.21270502526331858\n",
      "Depth: 10\n"
     ]
    },
    {
     "name": "stderr",
     "output_type": "stream",
     "text": [
      "100%|██████████| 512/512 [00:13<00:00, 38.04it/s]\n",
      "  1%|          | 4/512 [00:00<00:13, 36.55it/s]"
     ]
    },
    {
     "name": "stdout",
     "output_type": "stream",
     "text": [
      "0.2257801377553847\n",
      "Depth: 11\n"
     ]
    },
    {
     "name": "stderr",
     "output_type": "stream",
     "text": [
      "100%|██████████| 512/512 [00:13<00:00, 36.97it/s]\n",
      "  1%|          | 5/512 [00:00<00:11, 42.38it/s]"
     ]
    },
    {
     "name": "stdout",
     "output_type": "stream",
     "text": [
      "0.23799644263380568\n",
      "Depth: 12\n"
     ]
    },
    {
     "name": "stderr",
     "output_type": "stream",
     "text": [
      "100%|██████████| 512/512 [00:13<00:00, 38.82it/s]\n",
      "  1%|          | 4/512 [00:00<00:14, 36.08it/s]"
     ]
    },
    {
     "name": "stdout",
     "output_type": "stream",
     "text": [
      "0.2531901055169315\n",
      "Depth: 13\n"
     ]
    },
    {
     "name": "stderr",
     "output_type": "stream",
     "text": [
      "100%|██████████| 512/512 [00:13<00:00, 37.03it/s]\n",
      "  1%|          | 4/512 [00:00<00:13, 37.42it/s]"
     ]
    },
    {
     "name": "stdout",
     "output_type": "stream",
     "text": [
      "0.2697417162822172\n",
      "Depth: 14\n"
     ]
    },
    {
     "name": "stderr",
     "output_type": "stream",
     "text": [
      "100%|██████████| 512/512 [00:13<00:00, 36.95it/s]\n",
      "  1%|          | 4/512 [00:00<00:14, 35.59it/s]"
     ]
    },
    {
     "name": "stdout",
     "output_type": "stream",
     "text": [
      "0.2918990477427268\n",
      "Depth: 15\n"
     ]
    },
    {
     "name": "stderr",
     "output_type": "stream",
     "text": [
      "100%|██████████| 512/512 [00:14<00:00, 36.57it/s]\n",
      "  1%|          | 4/512 [00:00<00:13, 38.60it/s]"
     ]
    },
    {
     "name": "stdout",
     "output_type": "stream",
     "text": [
      "0.3168023503832158\n",
      "Depth: 16\n"
     ]
    },
    {
     "name": "stderr",
     "output_type": "stream",
     "text": [
      "100%|██████████| 512/512 [00:13<00:00, 37.82it/s]\n",
      "  1%|          | 4/512 [00:00<00:14, 36.10it/s]"
     ]
    },
    {
     "name": "stdout",
     "output_type": "stream",
     "text": [
      "0.34104815637376934\n",
      "Depth: 17\n"
     ]
    },
    {
     "name": "stderr",
     "output_type": "stream",
     "text": [
      "100%|██████████| 512/512 [00:14<00:00, 36.14it/s]\n",
      "  1%|          | 4/512 [00:00<00:13, 37.38it/s]"
     ]
    },
    {
     "name": "stdout",
     "output_type": "stream",
     "text": [
      "0.36326851748972533\n",
      "Depth: 18\n"
     ]
    },
    {
     "name": "stderr",
     "output_type": "stream",
     "text": [
      "100%|██████████| 512/512 [00:13<00:00, 37.21it/s]\n",
      "  1%|          | 4/512 [00:00<00:13, 38.76it/s]"
     ]
    },
    {
     "name": "stdout",
     "output_type": "stream",
     "text": [
      "0.38864667800806096\n",
      "Depth: 19\n"
     ]
    },
    {
     "name": "stderr",
     "output_type": "stream",
     "text": [
      "100%|██████████| 512/512 [00:13<00:00, 36.69it/s]\n",
      "  1%|          | 4/512 [00:00<00:13, 36.53it/s]"
     ]
    },
    {
     "name": "stdout",
     "output_type": "stream",
     "text": [
      "0.41899539716353684\n",
      "Depth: 20\n"
     ]
    },
    {
     "name": "stderr",
     "output_type": "stream",
     "text": [
      "100%|██████████| 512/512 [00:13<00:00, 38.08it/s]\n",
      "  1%|          | 4/512 [00:00<00:13, 38.13it/s]"
     ]
    },
    {
     "name": "stdout",
     "output_type": "stream",
     "text": [
      "0.4506851942142307\n",
      "Depth: 21\n"
     ]
    },
    {
     "name": "stderr",
     "output_type": "stream",
     "text": [
      "100%|██████████| 512/512 [00:13<00:00, 37.25it/s]\n",
      "  1%|          | 4/512 [00:00<00:14, 36.01it/s]"
     ]
    },
    {
     "name": "stdout",
     "output_type": "stream",
     "text": [
      "0.4875977086214018\n",
      "Depth: 22\n"
     ]
    },
    {
     "name": "stderr",
     "output_type": "stream",
     "text": [
      "100%|██████████| 512/512 [00:13<00:00, 36.61it/s]\n",
      "  1%|          | 4/512 [00:00<00:14, 35.29it/s]"
     ]
    },
    {
     "name": "stdout",
     "output_type": "stream",
     "text": [
      "0.5298722645573126\n",
      "Depth: 23\n"
     ]
    },
    {
     "name": "stderr",
     "output_type": "stream",
     "text": [
      "100%|██████████| 512/512 [00:13<00:00, 37.10it/s]\n",
      "  1%|          | 4/512 [00:00<00:13, 38.75it/s]"
     ]
    },
    {
     "name": "stdout",
     "output_type": "stream",
     "text": [
      "0.5663402767741542\n",
      "Depth: 24\n"
     ]
    },
    {
     "name": "stderr",
     "output_type": "stream",
     "text": [
      "100%|██████████| 512/512 [00:13<00:00, 37.37it/s]\n",
      "  1%|          | 4/512 [00:00<00:12, 39.49it/s]"
     ]
    },
    {
     "name": "stdout",
     "output_type": "stream",
     "text": [
      "0.5976443344874036\n",
      "Depth: 25\n"
     ]
    },
    {
     "name": "stderr",
     "output_type": "stream",
     "text": [
      "100%|██████████| 512/512 [00:14<00:00, 36.55it/s]\n",
      "  1%|          | 4/512 [00:00<00:13, 38.07it/s]"
     ]
    },
    {
     "name": "stdout",
     "output_type": "stream",
     "text": [
      "0.6249481802686515\n",
      "Depth: 26\n"
     ]
    },
    {
     "name": "stderr",
     "output_type": "stream",
     "text": [
      "100%|██████████| 512/512 [00:14<00:00, 36.57it/s]\n",
      "  1%|          | 4/512 [00:00<00:15, 32.38it/s]"
     ]
    },
    {
     "name": "stdout",
     "output_type": "stream",
     "text": [
      "0.649801646093618\n",
      "Depth: 27\n"
     ]
    },
    {
     "name": "stderr",
     "output_type": "stream",
     "text": [
      "100%|██████████| 512/512 [00:14<00:00, 35.88it/s]\n",
      "  1%|          | 5/512 [00:00<00:12, 40.15it/s]"
     ]
    },
    {
     "name": "stdout",
     "output_type": "stream",
     "text": [
      "0.6612864397821552\n",
      "Depth: 28\n"
     ]
    },
    {
     "name": "stderr",
     "output_type": "stream",
     "text": [
      "100%|██████████| 512/512 [00:13<00:00, 37.43it/s]\n",
      "  1%|          | 4/512 [00:00<00:12, 39.52it/s]"
     ]
    },
    {
     "name": "stdout",
     "output_type": "stream",
     "text": [
      "0.6701112323561123\n",
      "Depth: 29\n"
     ]
    },
    {
     "name": "stderr",
     "output_type": "stream",
     "text": [
      "100%|██████████| 512/512 [00:13<00:00, 36.82it/s]\n",
      "  1%|          | 4/512 [00:00<00:13, 36.68it/s]"
     ]
    },
    {
     "name": "stdout",
     "output_type": "stream",
     "text": [
      "0.6868725699523321\n",
      "Depth: 30\n"
     ]
    },
    {
     "name": "stderr",
     "output_type": "stream",
     "text": [
      "100%|██████████| 512/512 [00:14<00:00, 36.03it/s]\n",
      "  1%|          | 4/512 [00:00<00:13, 37.60it/s]"
     ]
    },
    {
     "name": "stdout",
     "output_type": "stream",
     "text": [
      "0.7016389776185457\n",
      "Depth: 31\n"
     ]
    },
    {
     "name": "stderr",
     "output_type": "stream",
     "text": [
      "100%|██████████| 512/512 [00:13<00:00, 36.77it/s]\n"
     ]
    },
    {
     "name": "stdout",
     "output_type": "stream",
     "text": [
      "0.7170301119904774\n"
     ]
    },
    {
     "name": "stderr",
     "output_type": "stream",
     "text": [
      "100%|██████████| 128/128 [01:09<00:00,  1.85it/s]\n"
     ]
    },
    {
     "name": "stdout",
     "output_type": "stream",
     "text": [
      "Depth: 0\n",
      "Depth: 1\n",
      "Depth: 2\n",
      "Depth: 3\n",
      "Depth: 4\n",
      "Depth: 5\n",
      "Depth: 6\n",
      "Depth: 7\n",
      "Depth: 8\n",
      "Depth: 9\n",
      "Depth: 10\n",
      "Depth: 11\n",
      "Depth: 12\n",
      "Depth: 13\n",
      "Depth: 14\n",
      "Depth: 15\n",
      "Depth: 16\n",
      "Depth: 17\n",
      "Depth: 18\n",
      "Depth: 19\n",
      "Depth: 20\n",
      "Depth: 21\n",
      "Depth: 22\n",
      "Depth: 23\n",
      "Depth: 24\n",
      "Depth: 25\n",
      "Depth: 26\n"
     ]
    },
    {
     "name": "stderr",
     "output_type": "stream",
     "text": [
      "\r",
      "  0%|          | 0/512 [00:00<?, ?it/s]"
     ]
    },
    {
     "name": "stdout",
     "output_type": "stream",
     "text": [
      "Depth: 27\n",
      "Depth: 28\n",
      "Depth: 29\n",
      "Depth: 30\n",
      "Depth: 31\n",
      "Depth: 0\n"
     ]
    },
    {
     "name": "stderr",
     "output_type": "stream",
     "text": [
      "100%|██████████| 512/512 [00:12<00:00, 39.61it/s]\n",
      "  1%|          | 4/512 [00:00<00:13, 37.40it/s]"
     ]
    },
    {
     "name": "stdout",
     "output_type": "stream",
     "text": [
      "0.16858633389359623\n",
      "Depth: 1\n"
     ]
    },
    {
     "name": "stderr",
     "output_type": "stream",
     "text": [
      "100%|██████████| 512/512 [00:12<00:00, 39.71it/s]\n",
      "  1%|          | 5/512 [00:00<00:12, 40.62it/s]"
     ]
    },
    {
     "name": "stdout",
     "output_type": "stream",
     "text": [
      "0.17126080917417036\n",
      "Depth: 2\n"
     ]
    },
    {
     "name": "stderr",
     "output_type": "stream",
     "text": [
      "100%|██████████| 512/512 [00:14<00:00, 35.28it/s]\n",
      "  1%|          | 4/512 [00:00<00:14, 35.81it/s]"
     ]
    },
    {
     "name": "stdout",
     "output_type": "stream",
     "text": [
      "0.15658001351686782\n",
      "Depth: 3\n"
     ]
    },
    {
     "name": "stderr",
     "output_type": "stream",
     "text": [
      "100%|██████████| 512/512 [00:14<00:00, 35.63it/s]\n",
      "  1%|          | 4/512 [00:00<00:13, 36.40it/s]"
     ]
    },
    {
     "name": "stdout",
     "output_type": "stream",
     "text": [
      "0.15292512099200453\n",
      "Depth: 4\n"
     ]
    },
    {
     "name": "stderr",
     "output_type": "stream",
     "text": [
      "100%|██████████| 512/512 [00:14<00:00, 35.94it/s]\n",
      "  1%|          | 4/512 [00:00<00:14, 35.55it/s]"
     ]
    },
    {
     "name": "stdout",
     "output_type": "stream",
     "text": [
      "0.1606453933811385\n",
      "Depth: 5\n"
     ]
    },
    {
     "name": "stderr",
     "output_type": "stream",
     "text": [
      "100%|██████████| 512/512 [00:13<00:00, 39.11it/s]\n",
      "  1%|          | 5/512 [00:00<00:11, 42.28it/s]"
     ]
    },
    {
     "name": "stdout",
     "output_type": "stream",
     "text": [
      "0.1642367443292965\n",
      "Depth: 6\n"
     ]
    },
    {
     "name": "stderr",
     "output_type": "stream",
     "text": [
      "100%|██████████| 512/512 [00:14<00:00, 34.57it/s]\n",
      "  1%|          | 4/512 [00:00<00:14, 35.88it/s]"
     ]
    },
    {
     "name": "stdout",
     "output_type": "stream",
     "text": [
      "0.1669699364025386\n",
      "Depth: 7\n"
     ]
    },
    {
     "name": "stderr",
     "output_type": "stream",
     "text": [
      "100%|██████████| 512/512 [00:14<00:00, 36.07it/s]\n",
      "  1%|          | 4/512 [00:00<00:13, 36.32it/s]"
     ]
    },
    {
     "name": "stdout",
     "output_type": "stream",
     "text": [
      "0.16853214409494421\n",
      "Depth: 8\n"
     ]
    },
    {
     "name": "stderr",
     "output_type": "stream",
     "text": [
      "100%|██████████| 512/512 [00:14<00:00, 35.95it/s]\n",
      "  1%|          | 4/512 [00:00<00:13, 36.76it/s]"
     ]
    },
    {
     "name": "stdout",
     "output_type": "stream",
     "text": [
      "0.18565253093777978\n",
      "Depth: 9\n"
     ]
    },
    {
     "name": "stderr",
     "output_type": "stream",
     "text": [
      "100%|██████████| 512/512 [00:14<00:00, 35.39it/s]\n",
      "  1%|          | 4/512 [00:00<00:13, 38.38it/s]"
     ]
    },
    {
     "name": "stdout",
     "output_type": "stream",
     "text": [
      "0.1958855918002863\n",
      "Depth: 10\n"
     ]
    },
    {
     "name": "stderr",
     "output_type": "stream",
     "text": [
      "100%|██████████| 512/512 [00:13<00:00, 36.90it/s]\n",
      "  1%|          | 4/512 [00:00<00:13, 38.25it/s]"
     ]
    },
    {
     "name": "stdout",
     "output_type": "stream",
     "text": [
      "0.20630773043489317\n",
      "Depth: 11\n"
     ]
    },
    {
     "name": "stderr",
     "output_type": "stream",
     "text": [
      "100%|██████████| 512/512 [00:13<00:00, 37.36it/s]\n",
      "  1%|          | 4/512 [00:00<00:14, 35.98it/s]"
     ]
    },
    {
     "name": "stdout",
     "output_type": "stream",
     "text": [
      "0.21653900643260832\n",
      "Depth: 12\n"
     ]
    },
    {
     "name": "stderr",
     "output_type": "stream",
     "text": [
      "100%|██████████| 512/512 [00:14<00:00, 35.79it/s]\n",
      "  1%|          | 4/512 [00:00<00:14, 36.23it/s]"
     ]
    },
    {
     "name": "stdout",
     "output_type": "stream",
     "text": [
      "0.23257669824771202\n",
      "Depth: 13\n"
     ]
    },
    {
     "name": "stderr",
     "output_type": "stream",
     "text": [
      "100%|██████████| 512/512 [00:14<00:00, 35.98it/s]\n",
      "  1%|          | 4/512 [00:00<00:15, 33.63it/s]"
     ]
    },
    {
     "name": "stdout",
     "output_type": "stream",
     "text": [
      "0.24873623407331769\n",
      "Depth: 14\n"
     ]
    },
    {
     "name": "stderr",
     "output_type": "stream",
     "text": [
      "100%|██████████| 512/512 [00:14<00:00, 35.98it/s]\n",
      "  1%|          | 5/512 [00:00<00:12, 40.84it/s]"
     ]
    },
    {
     "name": "stdout",
     "output_type": "stream",
     "text": [
      "0.2724537332704609\n",
      "Depth: 15\n"
     ]
    },
    {
     "name": "stderr",
     "output_type": "stream",
     "text": [
      "100%|██████████| 512/512 [00:14<00:00, 35.17it/s]\n",
      "  1%|          | 4/512 [00:00<00:14, 35.61it/s]"
     ]
    },
    {
     "name": "stdout",
     "output_type": "stream",
     "text": [
      "0.29852132134950277\n",
      "Depth: 16\n"
     ]
    },
    {
     "name": "stderr",
     "output_type": "stream",
     "text": [
      "100%|██████████| 512/512 [00:14<00:00, 35.93it/s]\n",
      "  1%|          | 4/512 [00:00<00:13, 37.74it/s]"
     ]
    },
    {
     "name": "stdout",
     "output_type": "stream",
     "text": [
      "0.3249348493569508\n",
      "Depth: 17\n"
     ]
    },
    {
     "name": "stderr",
     "output_type": "stream",
     "text": [
      "100%|██████████| 512/512 [00:13<00:00, 38.02it/s]\n",
      "  1%|          | 4/512 [00:00<00:13, 36.33it/s]"
     ]
    },
    {
     "name": "stdout",
     "output_type": "stream",
     "text": [
      "0.3470805297151024\n",
      "Depth: 18\n"
     ]
    },
    {
     "name": "stderr",
     "output_type": "stream",
     "text": [
      "100%|██████████| 512/512 [00:12<00:00, 41.45it/s]\n",
      "  1%|          | 5/512 [00:00<00:11, 43.32it/s]"
     ]
    },
    {
     "name": "stdout",
     "output_type": "stream",
     "text": [
      "0.37269551290758474\n",
      "Depth: 19\n"
     ]
    },
    {
     "name": "stderr",
     "output_type": "stream",
     "text": [
      "100%|██████████| 512/512 [00:11<00:00, 43.02it/s]\n",
      "  1%|          | 5/512 [00:00<00:11, 43.24it/s]"
     ]
    },
    {
     "name": "stdout",
     "output_type": "stream",
     "text": [
      "0.4038541378062374\n",
      "Depth: 20\n"
     ]
    },
    {
     "name": "stderr",
     "output_type": "stream",
     "text": [
      "100%|██████████| 512/512 [00:11<00:00, 43.11it/s]\n",
      "  1%|          | 5/512 [00:00<00:11, 43.61it/s]"
     ]
    },
    {
     "name": "stdout",
     "output_type": "stream",
     "text": [
      "0.43555139361703155\n",
      "Depth: 21\n"
     ]
    },
    {
     "name": "stderr",
     "output_type": "stream",
     "text": [
      "100%|██████████| 512/512 [00:11<00:00, 43.06it/s]\n",
      "  1%|          | 5/512 [00:00<00:11, 43.67it/s]"
     ]
    },
    {
     "name": "stdout",
     "output_type": "stream",
     "text": [
      "0.4719211258950894\n",
      "Depth: 22\n"
     ]
    },
    {
     "name": "stderr",
     "output_type": "stream",
     "text": [
      "100%|██████████| 512/512 [00:11<00:00, 43.04it/s]\n",
      "  1%|          | 5/512 [00:00<00:11, 42.59it/s]"
     ]
    },
    {
     "name": "stdout",
     "output_type": "stream",
     "text": [
      "0.5168454724937775\n",
      "Depth: 23\n"
     ]
    },
    {
     "name": "stderr",
     "output_type": "stream",
     "text": [
      "100%|██████████| 512/512 [00:12<00:00, 41.58it/s]\n",
      "  1%|          | 5/512 [00:00<00:11, 43.46it/s]"
     ]
    },
    {
     "name": "stdout",
     "output_type": "stream",
     "text": [
      "0.5580640607257636\n",
      "Depth: 24\n"
     ]
    },
    {
     "name": "stderr",
     "output_type": "stream",
     "text": [
      "100%|██████████| 512/512 [00:11<00:00, 43.36it/s]\n",
      "  1%|          | 5/512 [00:00<00:11, 43.83it/s]"
     ]
    },
    {
     "name": "stdout",
     "output_type": "stream",
     "text": [
      "0.5948403922152384\n",
      "Depth: 25\n"
     ]
    },
    {
     "name": "stderr",
     "output_type": "stream",
     "text": [
      "100%|██████████| 512/512 [00:12<00:00, 41.95it/s]\n",
      "  1%|          | 5/512 [00:00<00:11, 44.14it/s]"
     ]
    },
    {
     "name": "stdout",
     "output_type": "stream",
     "text": [
      "0.6268187700028134\n",
      "Depth: 26\n"
     ]
    },
    {
     "name": "stderr",
     "output_type": "stream",
     "text": [
      "100%|██████████| 512/512 [00:12<00:00, 42.64it/s]\n",
      "  1%|          | 5/512 [00:00<00:11, 44.02it/s]"
     ]
    },
    {
     "name": "stdout",
     "output_type": "stream",
     "text": [
      "0.6553236418585975\n",
      "Depth: 27\n"
     ]
    },
    {
     "name": "stderr",
     "output_type": "stream",
     "text": [
      "100%|██████████| 512/512 [00:12<00:00, 41.53it/s]\n",
      "  1%|          | 5/512 [00:00<00:11, 44.01it/s]"
     ]
    },
    {
     "name": "stdout",
     "output_type": "stream",
     "text": [
      "0.6710774448586339\n",
      "Depth: 28\n"
     ]
    },
    {
     "name": "stderr",
     "output_type": "stream",
     "text": [
      "100%|██████████| 512/512 [00:11<00:00, 43.39it/s]\n",
      "  1%|          | 5/512 [00:00<00:11, 43.47it/s]"
     ]
    },
    {
     "name": "stdout",
     "output_type": "stream",
     "text": [
      "0.6827592345534954\n",
      "Depth: 29\n"
     ]
    },
    {
     "name": "stderr",
     "output_type": "stream",
     "text": [
      "100%|██████████| 512/512 [00:12<00:00, 42.20it/s]\n",
      "  1%|          | 5/512 [00:00<00:11, 44.10it/s]"
     ]
    },
    {
     "name": "stdout",
     "output_type": "stream",
     "text": [
      "0.7014669464958535\n",
      "Depth: 30\n"
     ]
    },
    {
     "name": "stderr",
     "output_type": "stream",
     "text": [
      "100%|██████████| 512/512 [00:11<00:00, 43.02it/s]\n",
      "  1%|          | 5/512 [00:00<00:11, 43.89it/s]"
     ]
    },
    {
     "name": "stdout",
     "output_type": "stream",
     "text": [
      "0.7176117399000641\n",
      "Depth: 31\n"
     ]
    },
    {
     "name": "stderr",
     "output_type": "stream",
     "text": [
      "100%|██████████| 512/512 [00:12<00:00, 42.21it/s]\n"
     ]
    },
    {
     "name": "stdout",
     "output_type": "stream",
     "text": [
      "0.734903323959822\n"
     ]
    },
    {
     "name": "stderr",
     "output_type": "stream",
     "text": [
      "100%|██████████| 128/128 [01:02<00:00,  2.04it/s]\n"
     ]
    },
    {
     "name": "stdout",
     "output_type": "stream",
     "text": [
      "Depth: 0\n",
      "Depth: 1\n",
      "Depth: 2\n",
      "Depth: 3\n",
      "Depth: 4\n",
      "Depth: 5\n",
      "Depth: 6\n",
      "Depth: 7\n",
      "Depth: 8\n",
      "Depth: 9\n",
      "Depth: 10\n",
      "Depth: 11\n",
      "Depth: 12\n",
      "Depth: 13\n",
      "Depth: 14\n",
      "Depth: 15\n",
      "Depth: 16\n",
      "Depth: 17\n",
      "Depth: 18\n",
      "Depth: 19\n",
      "Depth: 20\n",
      "Depth: 21\n",
      "Depth: 22\n",
      "Depth: 23\n",
      "Depth: 24\n",
      "Depth: 25\n",
      "Depth: 26\n"
     ]
    },
    {
     "name": "stderr",
     "output_type": "stream",
     "text": [
      "\r",
      "  0%|          | 0/512 [00:00<?, ?it/s]"
     ]
    },
    {
     "name": "stdout",
     "output_type": "stream",
     "text": [
      "Depth: 27\n",
      "Depth: 28\n",
      "Depth: 29\n",
      "Depth: 30\n",
      "Depth: 31\n",
      "Depth: 0\n"
     ]
    },
    {
     "name": "stderr",
     "output_type": "stream",
     "text": [
      "100%|██████████| 512/512 [00:12<00:00, 39.50it/s]\n",
      "  1%|          | 5/512 [00:00<00:12, 41.18it/s]"
     ]
    },
    {
     "name": "stdout",
     "output_type": "stream",
     "text": [
      "0.1702861632571646\n",
      "Depth: 1\n"
     ]
    },
    {
     "name": "stderr",
     "output_type": "stream",
     "text": [
      "100%|██████████| 512/512 [00:12<00:00, 42.41it/s]\n",
      "  1%|          | 5/512 [00:00<00:11, 42.56it/s]"
     ]
    },
    {
     "name": "stdout",
     "output_type": "stream",
     "text": [
      "0.19298165514830756\n",
      "Depth: 2\n"
     ]
    },
    {
     "name": "stderr",
     "output_type": "stream",
     "text": [
      "100%|██████████| 512/512 [00:12<00:00, 41.95it/s]\n",
      "  1%|          | 5/512 [00:00<00:11, 43.48it/s]"
     ]
    },
    {
     "name": "stdout",
     "output_type": "stream",
     "text": [
      "0.18438318214959293\n",
      "Depth: 3\n"
     ]
    },
    {
     "name": "stderr",
     "output_type": "stream",
     "text": [
      "100%|██████████| 512/512 [00:12<00:00, 41.53it/s]\n",
      "  1%|          | 5/512 [00:00<00:11, 43.29it/s]"
     ]
    },
    {
     "name": "stdout",
     "output_type": "stream",
     "text": [
      "0.1853630921156914\n",
      "Depth: 4\n"
     ]
    },
    {
     "name": "stderr",
     "output_type": "stream",
     "text": [
      "100%|██████████| 512/512 [00:12<00:00, 41.55it/s]\n",
      "  1%|          | 5/512 [00:00<00:11, 42.73it/s]"
     ]
    },
    {
     "name": "stdout",
     "output_type": "stream",
     "text": [
      "0.16964276807905862\n",
      "Depth: 5\n"
     ]
    },
    {
     "name": "stderr",
     "output_type": "stream",
     "text": [
      "100%|██████████| 512/512 [00:12<00:00, 41.82it/s]\n",
      "  1%|          | 5/512 [00:00<00:12, 41.56it/s]"
     ]
    },
    {
     "name": "stdout",
     "output_type": "stream",
     "text": [
      "0.18408158258557078\n",
      "Depth: 6\n"
     ]
    },
    {
     "name": "stderr",
     "output_type": "stream",
     "text": [
      "100%|██████████| 512/512 [00:11<00:00, 42.69it/s]\n",
      "  1%|          | 5/512 [00:00<00:11, 42.52it/s]"
     ]
    },
    {
     "name": "stdout",
     "output_type": "stream",
     "text": [
      "0.19073461615145004\n",
      "Depth: 7\n"
     ]
    },
    {
     "name": "stderr",
     "output_type": "stream",
     "text": [
      "100%|██████████| 512/512 [00:12<00:00, 41.90it/s]\n",
      "  1%|          | 5/512 [00:00<00:11, 42.45it/s]"
     ]
    },
    {
     "name": "stdout",
     "output_type": "stream",
     "text": [
      "0.20086761429825625\n",
      "Depth: 8\n"
     ]
    },
    {
     "name": "stderr",
     "output_type": "stream",
     "text": [
      "100%|██████████| 512/512 [00:11<00:00, 43.06it/s]\n",
      "  1%|          | 5/512 [00:00<00:11, 43.11it/s]"
     ]
    },
    {
     "name": "stdout",
     "output_type": "stream",
     "text": [
      "0.21002485825749329\n",
      "Depth: 9\n"
     ]
    },
    {
     "name": "stderr",
     "output_type": "stream",
     "text": [
      "100%|██████████| 512/512 [00:12<00:00, 41.77it/s]\n",
      "  1%|          | 5/512 [00:00<00:11, 42.65it/s]"
     ]
    },
    {
     "name": "stdout",
     "output_type": "stream",
     "text": [
      "0.21969212196816038\n",
      "Depth: 10\n"
     ]
    },
    {
     "name": "stderr",
     "output_type": "stream",
     "text": [
      "100%|██████████| 512/512 [00:12<00:00, 42.64it/s]\n",
      "  1%|          | 5/512 [00:00<00:12, 41.16it/s]"
     ]
    },
    {
     "name": "stdout",
     "output_type": "stream",
     "text": [
      "0.22971917875928857\n",
      "Depth: 11\n"
     ]
    },
    {
     "name": "stderr",
     "output_type": "stream",
     "text": [
      "100%|██████████| 512/512 [00:12<00:00, 41.83it/s]\n",
      "  1%|          | 5/512 [00:00<00:11, 42.36it/s]"
     ]
    },
    {
     "name": "stdout",
     "output_type": "stream",
     "text": [
      "0.24192438425541798\n",
      "Depth: 12\n"
     ]
    },
    {
     "name": "stderr",
     "output_type": "stream",
     "text": [
      "100%|██████████| 512/512 [00:12<00:00, 41.90it/s]\n",
      "  1%|          | 5/512 [00:00<00:12, 41.86it/s]"
     ]
    },
    {
     "name": "stdout",
     "output_type": "stream",
     "text": [
      "0.2630619050633892\n",
      "Depth: 13\n"
     ]
    },
    {
     "name": "stderr",
     "output_type": "stream",
     "text": [
      "100%|██████████| 512/512 [00:12<00:00, 41.93it/s]\n",
      "  1%|          | 5/512 [00:00<00:12, 41.99it/s]"
     ]
    },
    {
     "name": "stdout",
     "output_type": "stream",
     "text": [
      "0.28672998182682197\n",
      "Depth: 14\n"
     ]
    },
    {
     "name": "stderr",
     "output_type": "stream",
     "text": [
      "100%|██████████| 512/512 [00:12<00:00, 41.81it/s]\n",
      "  1%|          | 5/512 [00:00<00:12, 41.39it/s]"
     ]
    },
    {
     "name": "stdout",
     "output_type": "stream",
     "text": [
      "0.315865350364948\n",
      "Depth: 15\n"
     ]
    },
    {
     "name": "stderr",
     "output_type": "stream",
     "text": [
      "100%|██████████| 512/512 [00:12<00:00, 41.26it/s]\n",
      "  1%|          | 5/512 [00:00<00:12, 41.40it/s]"
     ]
    },
    {
     "name": "stdout",
     "output_type": "stream",
     "text": [
      "0.3452643562909983\n",
      "Depth: 16\n"
     ]
    },
    {
     "name": "stderr",
     "output_type": "stream",
     "text": [
      "100%|██████████| 512/512 [00:12<00:00, 41.14it/s]\n",
      "  1%|          | 5/512 [00:00<00:12, 40.77it/s]"
     ]
    },
    {
     "name": "stdout",
     "output_type": "stream",
     "text": [
      "0.3742757326090064\n",
      "Depth: 17\n"
     ]
    },
    {
     "name": "stderr",
     "output_type": "stream",
     "text": [
      "100%|██████████| 512/512 [00:12<00:00, 40.06it/s]\n",
      "  1%|          | 5/512 [00:00<00:12, 39.51it/s]"
     ]
    },
    {
     "name": "stdout",
     "output_type": "stream",
     "text": [
      "0.3985093638878822\n",
      "Depth: 18\n"
     ]
    },
    {
     "name": "stderr",
     "output_type": "stream",
     "text": [
      "100%|██████████| 512/512 [00:12<00:00, 40.82it/s]\n",
      "  1%|          | 5/512 [00:00<00:11, 42.36it/s]"
     ]
    },
    {
     "name": "stdout",
     "output_type": "stream",
     "text": [
      "0.42628630735308237\n",
      "Depth: 19\n"
     ]
    },
    {
     "name": "stderr",
     "output_type": "stream",
     "text": [
      "100%|██████████| 512/512 [00:12<00:00, 42.54it/s]\n",
      "  1%|          | 5/512 [00:00<00:11, 42.64it/s]"
     ]
    },
    {
     "name": "stdout",
     "output_type": "stream",
     "text": [
      "0.4608271115946984\n",
      "Depth: 20\n"
     ]
    },
    {
     "name": "stderr",
     "output_type": "stream",
     "text": [
      "100%|██████████| 512/512 [00:12<00:00, 40.15it/s]\n",
      "  1%|          | 5/512 [00:00<00:12, 41.12it/s]"
     ]
    },
    {
     "name": "stdout",
     "output_type": "stream",
     "text": [
      "0.4981165269109105\n",
      "Depth: 21\n"
     ]
    },
    {
     "name": "stderr",
     "output_type": "stream",
     "text": [
      "100%|██████████| 512/512 [00:12<00:00, 39.58it/s]\n",
      "  1%|          | 5/512 [00:00<00:12, 42.04it/s]"
     ]
    },
    {
     "name": "stdout",
     "output_type": "stream",
     "text": [
      "0.5408682546448786\n",
      "Depth: 22\n"
     ]
    },
    {
     "name": "stderr",
     "output_type": "stream",
     "text": [
      "100%|██████████| 512/512 [00:12<00:00, 41.23it/s]\n",
      "  1%|          | 5/512 [00:00<00:11, 42.46it/s]"
     ]
    },
    {
     "name": "stdout",
     "output_type": "stream",
     "text": [
      "0.5926023498549967\n",
      "Depth: 23\n"
     ]
    },
    {
     "name": "stderr",
     "output_type": "stream",
     "text": [
      "100%|██████████| 512/512 [00:12<00:00, 42.53it/s]\n",
      "  1%|          | 5/512 [00:00<00:11, 43.56it/s]"
     ]
    },
    {
     "name": "stdout",
     "output_type": "stream",
     "text": [
      "0.6392038550740311\n",
      "Depth: 24\n"
     ]
    },
    {
     "name": "stderr",
     "output_type": "stream",
     "text": [
      "100%|██████████| 512/512 [00:11<00:00, 43.47it/s]\n",
      "  1%|          | 5/512 [00:00<00:11, 43.16it/s]"
     ]
    },
    {
     "name": "stdout",
     "output_type": "stream",
     "text": [
      "0.6790938913772788\n",
      "Depth: 25\n"
     ]
    },
    {
     "name": "stderr",
     "output_type": "stream",
     "text": [
      "100%|██████████| 512/512 [00:11<00:00, 43.08it/s]\n",
      "  1%|          | 5/512 [00:00<00:11, 43.04it/s]"
     ]
    },
    {
     "name": "stdout",
     "output_type": "stream",
     "text": [
      "0.7115864519567022\n",
      "Depth: 26\n"
     ]
    },
    {
     "name": "stderr",
     "output_type": "stream",
     "text": [
      "100%|██████████| 512/512 [00:11<00:00, 43.33it/s]\n",
      "  1%|          | 5/512 [00:00<00:11, 43.62it/s]"
     ]
    },
    {
     "name": "stdout",
     "output_type": "stream",
     "text": [
      "0.7375611796897322\n",
      "Depth: 27\n"
     ]
    },
    {
     "name": "stderr",
     "output_type": "stream",
     "text": [
      "100%|██████████| 512/512 [00:11<00:00, 43.84it/s]\n",
      "  1%|          | 5/512 [00:00<00:11, 43.29it/s]"
     ]
    },
    {
     "name": "stdout",
     "output_type": "stream",
     "text": [
      "0.7490690015580184\n",
      "Depth: 28\n"
     ]
    },
    {
     "name": "stderr",
     "output_type": "stream",
     "text": [
      "100%|██████████| 512/512 [00:11<00:00, 42.89it/s]\n",
      "  1%|          | 5/512 [00:00<00:11, 43.45it/s]"
     ]
    },
    {
     "name": "stdout",
     "output_type": "stream",
     "text": [
      "0.7563435841257168\n",
      "Depth: 29\n"
     ]
    },
    {
     "name": "stderr",
     "output_type": "stream",
     "text": [
      "100%|██████████| 512/512 [00:12<00:00, 41.91it/s]\n",
      "  1%|          | 5/512 [00:00<00:12, 41.70it/s]"
     ]
    },
    {
     "name": "stdout",
     "output_type": "stream",
     "text": [
      "0.7702472269125058\n",
      "Depth: 30\n"
     ]
    },
    {
     "name": "stderr",
     "output_type": "stream",
     "text": [
      "100%|██████████| 512/512 [00:12<00:00, 41.66it/s]\n",
      "  1%|          | 5/512 [00:00<00:12, 42.23it/s]"
     ]
    },
    {
     "name": "stdout",
     "output_type": "stream",
     "text": [
      "0.7821964907954687\n",
      "Depth: 31\n"
     ]
    },
    {
     "name": "stderr",
     "output_type": "stream",
     "text": [
      "100%|██████████| 512/512 [00:12<00:00, 41.22it/s]\n"
     ]
    },
    {
     "name": "stdout",
     "output_type": "stream",
     "text": [
      "0.796645688887212\n"
     ]
    },
    {
     "name": "stderr",
     "output_type": "stream",
     "text": [
      "100%|██████████| 128/128 [00:55<00:00,  2.31it/s]\n"
     ]
    },
    {
     "name": "stdout",
     "output_type": "stream",
     "text": [
      "Depth: 0\n",
      "Depth: 1\n",
      "Depth: 2\n",
      "Depth: 3\n",
      "Depth: 4\n",
      "Depth: 5\n",
      "Depth: 6\n",
      "Depth: 7\n",
      "Depth: 8\n",
      "Depth: 9\n",
      "Depth: 10\n",
      "Depth: 11\n",
      "Depth: 12\n",
      "Depth: 13\n",
      "Depth: 14\n",
      "Depth: 15\n",
      "Depth: 16\n",
      "Depth: 17\n",
      "Depth: 18\n",
      "Depth: 19\n",
      "Depth: 20\n",
      "Depth: 21\n",
      "Depth: 22\n",
      "Depth: 23\n",
      "Depth: 24\n",
      "Depth: 25\n",
      "Depth: 26\n"
     ]
    },
    {
     "name": "stderr",
     "output_type": "stream",
     "text": [
      "\r",
      "  0%|          | 0/512 [00:00<?, ?it/s]"
     ]
    },
    {
     "name": "stdout",
     "output_type": "stream",
     "text": [
      "Depth: 27\n",
      "Depth: 28\n",
      "Depth: 29\n",
      "Depth: 30\n",
      "Depth: 31\n",
      "Depth: 0\n"
     ]
    },
    {
     "name": "stderr",
     "output_type": "stream",
     "text": [
      "100%|██████████| 512/512 [00:13<00:00, 38.59it/s]\n",
      "  1%|          | 4/512 [00:00<00:12, 40.00it/s]"
     ]
    },
    {
     "name": "stdout",
     "output_type": "stream",
     "text": [
      "0.2203293314565039\n",
      "Depth: 1\n"
     ]
    },
    {
     "name": "stderr",
     "output_type": "stream",
     "text": [
      "100%|██████████| 512/512 [00:13<00:00, 38.80it/s]\n",
      "  1%|          | 4/512 [00:00<00:13, 38.78it/s]"
     ]
    },
    {
     "name": "stdout",
     "output_type": "stream",
     "text": [
      "0.22572586790844293\n",
      "Depth: 2\n"
     ]
    },
    {
     "name": "stderr",
     "output_type": "stream",
     "text": [
      "100%|██████████| 512/512 [00:13<00:00, 39.09it/s]\n",
      "  1%|          | 3/512 [00:00<00:18, 27.23it/s]"
     ]
    },
    {
     "name": "stdout",
     "output_type": "stream",
     "text": [
      "0.22312582818358123\n",
      "Depth: 3\n"
     ]
    },
    {
     "name": "stderr",
     "output_type": "stream",
     "text": [
      "100%|██████████| 512/512 [00:12<00:00, 40.27it/s]\n",
      "  1%|          | 4/512 [00:00<00:12, 39.99it/s]"
     ]
    },
    {
     "name": "stdout",
     "output_type": "stream",
     "text": [
      "0.21085391182338198\n",
      "Depth: 4\n"
     ]
    },
    {
     "name": "stderr",
     "output_type": "stream",
     "text": [
      "100%|██████████| 512/512 [00:12<00:00, 40.02it/s]\n",
      "  1%|          | 5/512 [00:00<00:12, 41.03it/s]"
     ]
    },
    {
     "name": "stdout",
     "output_type": "stream",
     "text": [
      "0.22736202700750555\n",
      "Depth: 5\n"
     ]
    },
    {
     "name": "stderr",
     "output_type": "stream",
     "text": [
      "100%|██████████| 512/512 [00:12<00:00, 40.72it/s]\n",
      "  1%|          | 5/512 [00:00<00:12, 41.14it/s]"
     ]
    },
    {
     "name": "stdout",
     "output_type": "stream",
     "text": [
      "0.23066705957982792\n",
      "Depth: 6\n"
     ]
    },
    {
     "name": "stderr",
     "output_type": "stream",
     "text": [
      "100%|██████████| 512/512 [00:12<00:00, 42.24it/s]\n",
      "  1%|          | 5/512 [00:00<00:11, 42.61it/s]"
     ]
    },
    {
     "name": "stdout",
     "output_type": "stream",
     "text": [
      "0.22096426797568738\n",
      "Depth: 7\n"
     ]
    },
    {
     "name": "stderr",
     "output_type": "stream",
     "text": [
      "100%|██████████| 512/512 [00:12<00:00, 41.84it/s]\n",
      "  1%|          | 5/512 [00:00<00:12, 41.25it/s]"
     ]
    },
    {
     "name": "stdout",
     "output_type": "stream",
     "text": [
      "0.23649766228019847\n",
      "Depth: 8\n"
     ]
    },
    {
     "name": "stderr",
     "output_type": "stream",
     "text": [
      "100%|██████████| 512/512 [00:12<00:00, 42.12it/s]\n",
      "  1%|          | 4/512 [00:00<00:13, 38.15it/s]"
     ]
    },
    {
     "name": "stdout",
     "output_type": "stream",
     "text": [
      "0.25824286493017024\n",
      "Depth: 9\n"
     ]
    },
    {
     "name": "stderr",
     "output_type": "stream",
     "text": [
      "100%|██████████| 512/512 [00:12<00:00, 40.13it/s]\n",
      "  1%|          | 4/512 [00:00<00:13, 37.61it/s]"
     ]
    },
    {
     "name": "stdout",
     "output_type": "stream",
     "text": [
      "0.2792447209708201\n",
      "Depth: 10\n"
     ]
    },
    {
     "name": "stderr",
     "output_type": "stream",
     "text": [
      "100%|██████████| 512/512 [00:13<00:00, 38.34it/s]\n",
      "  1%|          | 5/512 [00:00<00:12, 40.84it/s]"
     ]
    },
    {
     "name": "stdout",
     "output_type": "stream",
     "text": [
      "0.30649427159474185\n",
      "Depth: 11\n"
     ]
    },
    {
     "name": "stderr",
     "output_type": "stream",
     "text": [
      "100%|██████████| 512/512 [00:12<00:00, 39.65it/s]\n",
      "  1%|          | 5/512 [00:00<00:11, 42.29it/s]"
     ]
    },
    {
     "name": "stdout",
     "output_type": "stream",
     "text": [
      "0.34089601983514684\n",
      "Depth: 12\n"
     ]
    },
    {
     "name": "stderr",
     "output_type": "stream",
     "text": [
      "100%|██████████| 512/512 [00:12<00:00, 40.59it/s]\n",
      "  1%|          | 4/512 [00:00<00:14, 34.48it/s]"
     ]
    },
    {
     "name": "stdout",
     "output_type": "stream",
     "text": [
      "0.38826206609236125\n",
      "Depth: 13\n"
     ]
    },
    {
     "name": "stderr",
     "output_type": "stream",
     "text": [
      "100%|██████████| 512/512 [00:13<00:00, 38.87it/s]\n",
      "  1%|          | 4/512 [00:00<00:16, 31.13it/s]"
     ]
    },
    {
     "name": "stdout",
     "output_type": "stream",
     "text": [
      "0.43504870984414074\n",
      "Depth: 14\n"
     ]
    },
    {
     "name": "stderr",
     "output_type": "stream",
     "text": [
      "100%|██████████| 512/512 [00:12<00:00, 39.91it/s]\n",
      "  1%|          | 5/512 [00:00<00:12, 41.37it/s]"
     ]
    },
    {
     "name": "stdout",
     "output_type": "stream",
     "text": [
      "0.4754721426936308\n",
      "Depth: 15\n"
     ]
    },
    {
     "name": "stderr",
     "output_type": "stream",
     "text": [
      "100%|██████████| 512/512 [00:12<00:00, 41.36it/s]\n",
      "  1%|          | 5/512 [00:00<00:12, 41.29it/s]"
     ]
    },
    {
     "name": "stdout",
     "output_type": "stream",
     "text": [
      "0.5083406423340923\n",
      "Depth: 16\n"
     ]
    },
    {
     "name": "stderr",
     "output_type": "stream",
     "text": [
      "100%|██████████| 512/512 [00:12<00:00, 41.49it/s]\n",
      "  1%|          | 4/512 [00:00<00:13, 37.29it/s]"
     ]
    },
    {
     "name": "stdout",
     "output_type": "stream",
     "text": [
      "0.5348585450267308\n",
      "Depth: 17\n"
     ]
    },
    {
     "name": "stderr",
     "output_type": "stream",
     "text": [
      "100%|██████████| 512/512 [00:12<00:00, 39.59it/s]\n",
      "  1%|          | 5/512 [00:00<00:12, 41.94it/s]"
     ]
    },
    {
     "name": "stdout",
     "output_type": "stream",
     "text": [
      "0.5530887341081829\n",
      "Depth: 18\n"
     ]
    },
    {
     "name": "stderr",
     "output_type": "stream",
     "text": [
      "100%|██████████| 512/512 [00:12<00:00, 40.19it/s]\n",
      "  1%|          | 4/512 [00:00<00:12, 39.23it/s]"
     ]
    },
    {
     "name": "stdout",
     "output_type": "stream",
     "text": [
      "0.5737489196028995\n",
      "Depth: 19\n"
     ]
    },
    {
     "name": "stderr",
     "output_type": "stream",
     "text": [
      "100%|██████████| 512/512 [00:12<00:00, 40.53it/s]\n",
      "  1%|          | 5/512 [00:00<00:12, 40.18it/s]"
     ]
    },
    {
     "name": "stdout",
     "output_type": "stream",
     "text": [
      "0.6019692271628383\n",
      "Depth: 20\n"
     ]
    },
    {
     "name": "stderr",
     "output_type": "stream",
     "text": [
      "100%|██████████| 512/512 [00:13<00:00, 39.20it/s]\n",
      "  1%|          | 5/512 [00:00<00:12, 41.70it/s]"
     ]
    },
    {
     "name": "stdout",
     "output_type": "stream",
     "text": [
      "0.6312087508332853\n",
      "Depth: 21\n"
     ]
    },
    {
     "name": "stderr",
     "output_type": "stream",
     "text": [
      "100%|██████████| 512/512 [00:12<00:00, 41.39it/s]\n",
      "  1%|          | 5/512 [00:00<00:12, 41.75it/s]"
     ]
    },
    {
     "name": "stdout",
     "output_type": "stream",
     "text": [
      "0.6657118843986127\n",
      "Depth: 22\n"
     ]
    },
    {
     "name": "stderr",
     "output_type": "stream",
     "text": [
      "100%|██████████| 512/512 [00:12<00:00, 40.59it/s]\n",
      "  1%|          | 4/512 [00:00<00:15, 33.55it/s]"
     ]
    },
    {
     "name": "stdout",
     "output_type": "stream",
     "text": [
      "0.7071163582208333\n",
      "Depth: 23\n"
     ]
    },
    {
     "name": "stderr",
     "output_type": "stream",
     "text": [
      "100%|██████████| 512/512 [00:12<00:00, 40.72it/s]\n",
      "  1%|          | 5/512 [00:00<00:12, 40.57it/s]"
     ]
    },
    {
     "name": "stdout",
     "output_type": "stream",
     "text": [
      "0.7429125070767568\n",
      "Depth: 24\n"
     ]
    },
    {
     "name": "stderr",
     "output_type": "stream",
     "text": [
      "100%|██████████| 512/512 [00:12<00:00, 41.86it/s]\n",
      "  1%|          | 5/512 [00:00<00:12, 42.11it/s]"
     ]
    },
    {
     "name": "stdout",
     "output_type": "stream",
     "text": [
      "0.7717340203685868\n",
      "Depth: 25\n"
     ]
    },
    {
     "name": "stderr",
     "output_type": "stream",
     "text": [
      "100%|██████████| 512/512 [00:12<00:00, 41.07it/s]\n",
      "  1%|          | 5/512 [00:00<00:12, 41.80it/s]"
     ]
    },
    {
     "name": "stdout",
     "output_type": "stream",
     "text": [
      "0.7944670219252987\n",
      "Depth: 26\n"
     ]
    },
    {
     "name": "stderr",
     "output_type": "stream",
     "text": [
      "100%|██████████| 512/512 [00:12<00:00, 41.95it/s]\n",
      "  1%|          | 5/512 [00:00<00:11, 42.97it/s]"
     ]
    },
    {
     "name": "stdout",
     "output_type": "stream",
     "text": [
      "0.8114012612315273\n",
      "Depth: 27\n"
     ]
    },
    {
     "name": "stderr",
     "output_type": "stream",
     "text": [
      "100%|██████████| 512/512 [00:12<00:00, 42.04it/s]\n",
      "  1%|          | 5/512 [00:00<00:12, 41.87it/s]"
     ]
    },
    {
     "name": "stdout",
     "output_type": "stream",
     "text": [
      "0.813860015448173\n",
      "Depth: 28\n"
     ]
    },
    {
     "name": "stderr",
     "output_type": "stream",
     "text": [
      "100%|██████████| 512/512 [00:12<00:00, 41.72it/s]\n",
      "  1%|          | 5/512 [00:00<00:11, 42.47it/s]"
     ]
    },
    {
     "name": "stdout",
     "output_type": "stream",
     "text": [
      "0.8145725615999584\n",
      "Depth: 29\n"
     ]
    },
    {
     "name": "stderr",
     "output_type": "stream",
     "text": [
      "100%|██████████| 512/512 [00:12<00:00, 40.19it/s]\n",
      "  1%|          | 5/512 [00:00<00:12, 41.69it/s]"
     ]
    },
    {
     "name": "stdout",
     "output_type": "stream",
     "text": [
      "0.8222827265018844\n",
      "Depth: 30\n"
     ]
    },
    {
     "name": "stderr",
     "output_type": "stream",
     "text": [
      "100%|██████████| 512/512 [00:12<00:00, 40.69it/s]\n",
      "  1%|          | 4/512 [00:00<00:12, 39.42it/s]"
     ]
    },
    {
     "name": "stdout",
     "output_type": "stream",
     "text": [
      "0.829218559348311\n",
      "Depth: 31\n"
     ]
    },
    {
     "name": "stderr",
     "output_type": "stream",
     "text": [
      "100%|██████████| 512/512 [00:12<00:00, 41.22it/s]\n"
     ]
    },
    {
     "name": "stdout",
     "output_type": "stream",
     "text": [
      "0.8385163665832531\n"
     ]
    },
    {
     "name": "stderr",
     "output_type": "stream",
     "text": [
      "100%|██████████| 128/128 [00:52<00:00,  2.45it/s]\n"
     ]
    },
    {
     "name": "stdout",
     "output_type": "stream",
     "text": [
      "Depth: 0\n",
      "Depth: 1\n",
      "Depth: 2\n",
      "Depth: 3\n",
      "Depth: 4\n",
      "Depth: 5\n",
      "Depth: 6\n",
      "Depth: 7\n",
      "Depth: 8\n",
      "Depth: 9\n",
      "Depth: 10\n",
      "Depth: 11\n",
      "Depth: 12\n",
      "Depth: 13\n",
      "Depth: 14\n",
      "Depth: 15\n",
      "Depth: 16\n",
      "Depth: 17\n",
      "Depth: 18\n",
      "Depth: 19\n",
      "Depth: 20\n",
      "Depth: 21\n",
      "Depth: 22\n",
      "Depth: 23\n",
      "Depth: 24\n",
      "Depth: 25\n",
      "Depth: 26\n",
      "Depth: 27\n",
      "Depth: 28\n",
      "Depth: 29\n",
      "Depth: 30\n",
      "Depth: 31\n"
     ]
    },
    {
     "name": "stderr",
     "output_type": "stream",
     "text": [
      "  1%|          | 5/512 [00:00<00:12, 40.81it/s]"
     ]
    },
    {
     "name": "stdout",
     "output_type": "stream",
     "text": [
      "Depth: 0\n"
     ]
    },
    {
     "name": "stderr",
     "output_type": "stream",
     "text": [
      "100%|██████████| 512/512 [00:12<00:00, 39.89it/s]\n",
      "  1%|          | 4/512 [00:00<00:13, 36.72it/s]"
     ]
    },
    {
     "name": "stdout",
     "output_type": "stream",
     "text": [
      "0.2500904277539223\n",
      "Depth: 1\n"
     ]
    },
    {
     "name": "stderr",
     "output_type": "stream",
     "text": [
      "100%|██████████| 512/512 [00:12<00:00, 40.21it/s]\n",
      "  1%|          | 4/512 [00:00<00:13, 36.48it/s]"
     ]
    },
    {
     "name": "stdout",
     "output_type": "stream",
     "text": [
      "0.22401351096322242\n",
      "Depth: 2\n"
     ]
    },
    {
     "name": "stderr",
     "output_type": "stream",
     "text": [
      "100%|██████████| 512/512 [00:12<00:00, 40.57it/s]\n",
      "  1%|          | 4/512 [00:00<00:13, 38.40it/s]"
     ]
    },
    {
     "name": "stdout",
     "output_type": "stream",
     "text": [
      "0.2260184731025238\n",
      "Depth: 3\n"
     ]
    },
    {
     "name": "stderr",
     "output_type": "stream",
     "text": [
      "100%|██████████| 512/512 [00:12<00:00, 40.54it/s]\n",
      "  1%|          | 5/512 [00:00<00:12, 41.79it/s]"
     ]
    },
    {
     "name": "stdout",
     "output_type": "stream",
     "text": [
      "0.22442710279628572\n",
      "Depth: 4\n"
     ]
    },
    {
     "name": "stderr",
     "output_type": "stream",
     "text": [
      "100%|██████████| 512/512 [00:12<00:00, 41.88it/s]\n",
      "  1%|          | 5/512 [00:00<00:12, 41.79it/s]"
     ]
    },
    {
     "name": "stdout",
     "output_type": "stream",
     "text": [
      "0.25116240552206526\n",
      "Depth: 5\n"
     ]
    },
    {
     "name": "stderr",
     "output_type": "stream",
     "text": [
      "100%|██████████| 512/512 [00:11<00:00, 42.70it/s]\n",
      "  1%|          | 5/512 [00:00<00:11, 42.85it/s]"
     ]
    },
    {
     "name": "stdout",
     "output_type": "stream",
     "text": [
      "0.2614532873347142\n",
      "Depth: 6\n"
     ]
    },
    {
     "name": "stderr",
     "output_type": "stream",
     "text": [
      "100%|██████████| 512/512 [00:12<00:00, 41.10it/s]\n",
      "  1%|          | 4/512 [00:00<00:12, 39.58it/s]"
     ]
    },
    {
     "name": "stdout",
     "output_type": "stream",
     "text": [
      "0.26370620456609095\n",
      "Depth: 7\n"
     ]
    },
    {
     "name": "stderr",
     "output_type": "stream",
     "text": [
      "100%|██████████| 512/512 [00:12<00:00, 40.03it/s]\n",
      "  1%|          | 4/512 [00:00<00:13, 36.35it/s]"
     ]
    },
    {
     "name": "stdout",
     "output_type": "stream",
     "text": [
      "0.27998878553763895\n",
      "Depth: 8\n"
     ]
    },
    {
     "name": "stderr",
     "output_type": "stream",
     "text": [
      "100%|██████████| 512/512 [00:11<00:00, 42.88it/s]\n",
      "  1%|          | 5/512 [00:00<00:12, 42.15it/s]"
     ]
    },
    {
     "name": "stdout",
     "output_type": "stream",
     "text": [
      "0.3108454843066981\n",
      "Depth: 9\n"
     ]
    },
    {
     "name": "stderr",
     "output_type": "stream",
     "text": [
      "100%|██████████| 512/512 [00:11<00:00, 42.81it/s]\n",
      "  1%|          | 5/512 [00:00<00:11, 42.41it/s]"
     ]
    },
    {
     "name": "stdout",
     "output_type": "stream",
     "text": [
      "0.34762071985266396\n",
      "Depth: 10\n"
     ]
    },
    {
     "name": "stderr",
     "output_type": "stream",
     "text": [
      "100%|██████████| 512/512 [00:12<00:00, 42.26it/s]\n",
      "  1%|          | 5/512 [00:00<00:12, 41.53it/s]"
     ]
    },
    {
     "name": "stdout",
     "output_type": "stream",
     "text": [
      "0.3794389476452146\n",
      "Depth: 11\n"
     ]
    },
    {
     "name": "stderr",
     "output_type": "stream",
     "text": [
      "100%|██████████| 512/512 [00:12<00:00, 40.78it/s]\n",
      "  1%|          | 5/512 [00:00<00:11, 42.67it/s]"
     ]
    },
    {
     "name": "stdout",
     "output_type": "stream",
     "text": [
      "0.4161426320425655\n",
      "Depth: 12\n"
     ]
    },
    {
     "name": "stderr",
     "output_type": "stream",
     "text": [
      "100%|██████████| 512/512 [00:12<00:00, 42.25it/s]\n",
      "  1%|          | 5/512 [00:00<00:11, 42.63it/s]"
     ]
    },
    {
     "name": "stdout",
     "output_type": "stream",
     "text": [
      "0.4580984677957087\n",
      "Depth: 13\n"
     ]
    },
    {
     "name": "stderr",
     "output_type": "stream",
     "text": [
      "100%|██████████| 512/512 [00:11<00:00, 42.97it/s]\n",
      "  1%|          | 5/512 [00:00<00:11, 42.55it/s]"
     ]
    },
    {
     "name": "stdout",
     "output_type": "stream",
     "text": [
      "0.5011061203036132\n",
      "Depth: 14\n"
     ]
    },
    {
     "name": "stderr",
     "output_type": "stream",
     "text": [
      "100%|██████████| 512/512 [00:11<00:00, 42.89it/s]\n",
      "  1%|          | 5/512 [00:00<00:11, 42.50it/s]"
     ]
    },
    {
     "name": "stdout",
     "output_type": "stream",
     "text": [
      "0.5377890989374425\n",
      "Depth: 15\n"
     ]
    },
    {
     "name": "stderr",
     "output_type": "stream",
     "text": [
      "100%|██████████| 512/512 [00:11<00:00, 43.08it/s]\n",
      "  1%|          | 5/512 [00:00<00:11, 42.75it/s]"
     ]
    },
    {
     "name": "stdout",
     "output_type": "stream",
     "text": [
      "0.5669404048589293\n",
      "Depth: 16\n"
     ]
    },
    {
     "name": "stderr",
     "output_type": "stream",
     "text": [
      "100%|██████████| 512/512 [00:11<00:00, 43.20it/s]\n",
      "  1%|          | 5/512 [00:00<00:11, 43.12it/s]"
     ]
    },
    {
     "name": "stdout",
     "output_type": "stream",
     "text": [
      "0.5866926767195904\n",
      "Depth: 17\n"
     ]
    },
    {
     "name": "stderr",
     "output_type": "stream",
     "text": [
      "100%|██████████| 512/512 [00:11<00:00, 43.22it/s]\n",
      "  1%|          | 5/512 [00:00<00:11, 43.10it/s]"
     ]
    },
    {
     "name": "stdout",
     "output_type": "stream",
     "text": [
      "0.5972970506416645\n",
      "Depth: 18\n"
     ]
    },
    {
     "name": "stderr",
     "output_type": "stream",
     "text": [
      "100%|██████████| 512/512 [00:11<00:00, 43.04it/s]\n",
      "  1%|          | 5/512 [00:00<00:11, 42.79it/s]"
     ]
    },
    {
     "name": "stdout",
     "output_type": "stream",
     "text": [
      "0.6113452945303921\n",
      "Depth: 19\n"
     ]
    },
    {
     "name": "stderr",
     "output_type": "stream",
     "text": [
      "100%|██████████| 512/512 [00:12<00:00, 41.16it/s]\n",
      "  1%|          | 5/512 [00:00<00:12, 40.75it/s]"
     ]
    },
    {
     "name": "stdout",
     "output_type": "stream",
     "text": [
      "0.6347949462746758\n",
      "Depth: 20\n"
     ]
    },
    {
     "name": "stderr",
     "output_type": "stream",
     "text": [
      "100%|██████████| 512/512 [00:11<00:00, 42.84it/s]\n",
      "  1%|          | 5/512 [00:00<00:12, 42.22it/s]"
     ]
    },
    {
     "name": "stdout",
     "output_type": "stream",
     "text": [
      "0.6625461597755153\n",
      "Depth: 21\n"
     ]
    },
    {
     "name": "stderr",
     "output_type": "stream",
     "text": [
      "100%|██████████| 512/512 [00:11<00:00, 42.72it/s]\n",
      "  1%|          | 5/512 [00:00<00:11, 43.76it/s]"
     ]
    },
    {
     "name": "stdout",
     "output_type": "stream",
     "text": [
      "0.6973573103239938\n",
      "Depth: 22\n"
     ]
    },
    {
     "name": "stderr",
     "output_type": "stream",
     "text": [
      "100%|██████████| 512/512 [00:11<00:00, 43.10it/s]\n",
      "  1%|          | 5/512 [00:00<00:11, 44.19it/s]"
     ]
    },
    {
     "name": "stdout",
     "output_type": "stream",
     "text": [
      "0.7389082164161441\n",
      "Depth: 23\n"
     ]
    },
    {
     "name": "stderr",
     "output_type": "stream",
     "text": [
      "100%|██████████| 512/512 [00:11<00:00, 43.22it/s]\n",
      "  1%|          | 5/512 [00:00<00:11, 43.43it/s]"
     ]
    },
    {
     "name": "stdout",
     "output_type": "stream",
     "text": [
      "0.7737982249175461\n",
      "Depth: 24\n"
     ]
    },
    {
     "name": "stderr",
     "output_type": "stream",
     "text": [
      "100%|██████████| 512/512 [00:12<00:00, 42.17it/s]\n",
      "  1%|          | 4/512 [00:00<00:13, 37.38it/s]"
     ]
    },
    {
     "name": "stdout",
     "output_type": "stream",
     "text": [
      "0.8006134610477851\n",
      "Depth: 25\n"
     ]
    },
    {
     "name": "stderr",
     "output_type": "stream",
     "text": [
      "100%|██████████| 512/512 [00:12<00:00, 42.44it/s]\n",
      "  1%|          | 5/512 [00:00<00:11, 44.20it/s]"
     ]
    },
    {
     "name": "stdout",
     "output_type": "stream",
     "text": [
      "0.8208538148794084\n",
      "Depth: 26\n"
     ]
    },
    {
     "name": "stderr",
     "output_type": "stream",
     "text": [
      "100%|██████████| 512/512 [00:11<00:00, 42.89it/s]\n",
      "  1%|          | 5/512 [00:00<00:11, 42.73it/s]"
     ]
    },
    {
     "name": "stdout",
     "output_type": "stream",
     "text": [
      "0.8360917675375837\n",
      "Depth: 27\n"
     ]
    },
    {
     "name": "stderr",
     "output_type": "stream",
     "text": [
      "100%|██████████| 512/512 [00:12<00:00, 41.87it/s]\n",
      "  1%|          | 5/512 [00:00<00:11, 42.44it/s]"
     ]
    },
    {
     "name": "stdout",
     "output_type": "stream",
     "text": [
      "0.8366976119336645\n",
      "Depth: 28\n"
     ]
    },
    {
     "name": "stderr",
     "output_type": "stream",
     "text": [
      "100%|██████████| 512/512 [00:12<00:00, 41.92it/s]\n",
      "  1%|          | 4/512 [00:00<00:13, 38.44it/s]"
     ]
    },
    {
     "name": "stdout",
     "output_type": "stream",
     "text": [
      "0.8358294092684715\n",
      "Depth: 29\n"
     ]
    },
    {
     "name": "stderr",
     "output_type": "stream",
     "text": [
      "100%|██████████| 512/512 [00:12<00:00, 41.73it/s]\n",
      "  1%|          | 5/512 [00:00<00:11, 43.32it/s]"
     ]
    },
    {
     "name": "stdout",
     "output_type": "stream",
     "text": [
      "0.8431840030282773\n",
      "Depth: 30\n"
     ]
    },
    {
     "name": "stderr",
     "output_type": "stream",
     "text": [
      "100%|██████████| 512/512 [00:11<00:00, 43.36it/s]\n",
      "  1%|          | 5/512 [00:00<00:11, 43.72it/s]"
     ]
    },
    {
     "name": "stdout",
     "output_type": "stream",
     "text": [
      "0.8510592769106478\n",
      "Depth: 31\n"
     ]
    },
    {
     "name": "stderr",
     "output_type": "stream",
     "text": [
      "100%|██████████| 512/512 [00:12<00:00, 41.69it/s]\n"
     ]
    },
    {
     "name": "stdout",
     "output_type": "stream",
     "text": [
      "0.8614616755875268\n"
     ]
    },
    {
     "name": "stderr",
     "output_type": "stream",
     "text": [
      "100%|██████████| 128/128 [00:49<00:00,  2.61it/s]\n"
     ]
    },
    {
     "name": "stdout",
     "output_type": "stream",
     "text": [
      "Depth: 0\n",
      "Depth: 1\n",
      "Depth: 2\n",
      "Depth: 3\n",
      "Depth: 4\n",
      "Depth: 5\n",
      "Depth: 6\n",
      "Depth: 7\n",
      "Depth: 8\n",
      "Depth: 9\n",
      "Depth: 10\n",
      "Depth: 11\n",
      "Depth: 12\n",
      "Depth: 13\n",
      "Depth: 14\n",
      "Depth: 15\n",
      "Depth: 16\n",
      "Depth: 17\n",
      "Depth: 18\n",
      "Depth: 19\n",
      "Depth: 20\n",
      "Depth: 21\n",
      "Depth: 22\n",
      "Depth: 23\n",
      "Depth: 24\n",
      "Depth: 25\n",
      "Depth: 26\n"
     ]
    },
    {
     "name": "stderr",
     "output_type": "stream",
     "text": [
      "\r",
      "  0%|          | 0/512 [00:00<?, ?it/s]"
     ]
    },
    {
     "name": "stdout",
     "output_type": "stream",
     "text": [
      "Depth: 27\n",
      "Depth: 28\n",
      "Depth: 29\n",
      "Depth: 30\n",
      "Depth: 31\n",
      "Depth: 0\n"
     ]
    },
    {
     "name": "stderr",
     "output_type": "stream",
     "text": [
      "100%|██████████| 512/512 [00:12<00:00, 40.28it/s]\n",
      "  1%|          | 4/512 [00:00<00:13, 36.91it/s]"
     ]
    },
    {
     "name": "stdout",
     "output_type": "stream",
     "text": [
      "0.27576029748191355\n",
      "Depth: 1\n"
     ]
    },
    {
     "name": "stderr",
     "output_type": "stream",
     "text": [
      "100%|██████████| 512/512 [00:12<00:00, 40.55it/s]\n",
      "  1%|          | 5/512 [00:00<00:12, 40.68it/s]"
     ]
    },
    {
     "name": "stdout",
     "output_type": "stream",
     "text": [
      "0.26762020689465793\n",
      "Depth: 2\n"
     ]
    },
    {
     "name": "stderr",
     "output_type": "stream",
     "text": [
      "100%|██████████| 512/512 [00:11<00:00, 43.00it/s]\n",
      "  1%|          | 5/512 [00:00<00:12, 42.00it/s]"
     ]
    },
    {
     "name": "stdout",
     "output_type": "stream",
     "text": [
      "0.27543187573283\n",
      "Depth: 3\n"
     ]
    },
    {
     "name": "stderr",
     "output_type": "stream",
     "text": [
      "100%|██████████| 512/512 [00:13<00:00, 38.89it/s]\n",
      "  1%|          | 4/512 [00:00<00:12, 39.65it/s]"
     ]
    },
    {
     "name": "stdout",
     "output_type": "stream",
     "text": [
      "0.2807308488204411\n",
      "Depth: 4\n"
     ]
    },
    {
     "name": "stderr",
     "output_type": "stream",
     "text": [
      "100%|██████████| 512/512 [00:12<00:00, 39.89it/s]\n",
      "  1%|          | 5/512 [00:00<00:12, 41.17it/s]"
     ]
    },
    {
     "name": "stdout",
     "output_type": "stream",
     "text": [
      "0.2807083175473699\n",
      "Depth: 5\n"
     ]
    },
    {
     "name": "stderr",
     "output_type": "stream",
     "text": [
      "100%|██████████| 512/512 [00:12<00:00, 40.80it/s]\n",
      "  1%|          | 5/512 [00:00<00:11, 43.02it/s]"
     ]
    },
    {
     "name": "stdout",
     "output_type": "stream",
     "text": [
      "0.3053392331222524\n",
      "Depth: 6\n"
     ]
    },
    {
     "name": "stderr",
     "output_type": "stream",
     "text": [
      "100%|██████████| 512/512 [00:12<00:00, 42.59it/s]\n",
      "  1%|          | 5/512 [00:00<00:12, 40.69it/s]"
     ]
    },
    {
     "name": "stdout",
     "output_type": "stream",
     "text": [
      "0.32791793631035226\n",
      "Depth: 7\n"
     ]
    },
    {
     "name": "stderr",
     "output_type": "stream",
     "text": [
      "100%|██████████| 512/512 [00:12<00:00, 42.62it/s]\n",
      "  1%|          | 5/512 [00:00<00:11, 42.44it/s]"
     ]
    },
    {
     "name": "stdout",
     "output_type": "stream",
     "text": [
      "0.34093773489028534\n",
      "Depth: 8\n"
     ]
    },
    {
     "name": "stderr",
     "output_type": "stream",
     "text": [
      "100%|██████████| 512/512 [00:12<00:00, 41.13it/s]\n",
      "  1%|          | 4/512 [00:00<00:13, 37.07it/s]"
     ]
    },
    {
     "name": "stdout",
     "output_type": "stream",
     "text": [
      "0.35979793592102705\n",
      "Depth: 9\n"
     ]
    },
    {
     "name": "stderr",
     "output_type": "stream",
     "text": [
      "100%|██████████| 512/512 [00:12<00:00, 41.09it/s]\n",
      "  1%|          | 4/512 [00:00<00:13, 36.67it/s]"
     ]
    },
    {
     "name": "stdout",
     "output_type": "stream",
     "text": [
      "0.38770891906256577\n",
      "Depth: 10\n"
     ]
    },
    {
     "name": "stderr",
     "output_type": "stream",
     "text": [
      "100%|██████████| 512/512 [00:11<00:00, 42.75it/s]\n",
      "  1%|          | 5/512 [00:00<00:12, 42.22it/s]"
     ]
    },
    {
     "name": "stdout",
     "output_type": "stream",
     "text": [
      "0.4187578146782279\n",
      "Depth: 11\n"
     ]
    },
    {
     "name": "stderr",
     "output_type": "stream",
     "text": [
      "100%|██████████| 512/512 [00:12<00:00, 41.55it/s]\n",
      "  1%|          | 5/512 [00:00<00:12, 39.35it/s]"
     ]
    },
    {
     "name": "stdout",
     "output_type": "stream",
     "text": [
      "0.45301700772777426\n",
      "Depth: 12\n"
     ]
    },
    {
     "name": "stderr",
     "output_type": "stream",
     "text": [
      "100%|██████████| 512/512 [00:12<00:00, 41.41it/s]\n",
      "  1%|          | 5/512 [00:00<00:12, 41.15it/s]"
     ]
    },
    {
     "name": "stdout",
     "output_type": "stream",
     "text": [
      "0.49056826306691825\n",
      "Depth: 13\n"
     ]
    },
    {
     "name": "stderr",
     "output_type": "stream",
     "text": [
      "100%|██████████| 512/512 [00:12<00:00, 41.99it/s]\n",
      "  1%|          | 5/512 [00:00<00:11, 42.71it/s]"
     ]
    },
    {
     "name": "stdout",
     "output_type": "stream",
     "text": [
      "0.5264233854566684\n",
      "Depth: 14\n"
     ]
    },
    {
     "name": "stderr",
     "output_type": "stream",
     "text": [
      "100%|██████████| 512/512 [00:11<00:00, 43.60it/s]\n",
      "  1%|          | 5/512 [00:00<00:11, 43.36it/s]"
     ]
    },
    {
     "name": "stdout",
     "output_type": "stream",
     "text": [
      "0.559593447203182\n",
      "Depth: 15\n"
     ]
    },
    {
     "name": "stderr",
     "output_type": "stream",
     "text": [
      "100%|██████████| 512/512 [00:12<00:00, 41.30it/s]\n",
      "  1%|          | 5/512 [00:00<00:12, 41.91it/s]"
     ]
    },
    {
     "name": "stdout",
     "output_type": "stream",
     "text": [
      "0.5866094069965131\n",
      "Depth: 16\n"
     ]
    },
    {
     "name": "stderr",
     "output_type": "stream",
     "text": [
      "100%|██████████| 512/512 [00:12<00:00, 42.01it/s]\n",
      "  1%|          | 5/512 [00:00<00:12, 41.87it/s]"
     ]
    },
    {
     "name": "stdout",
     "output_type": "stream",
     "text": [
      "0.6056458841708454\n",
      "Depth: 17\n"
     ]
    },
    {
     "name": "stderr",
     "output_type": "stream",
     "text": [
      "100%|██████████| 512/512 [00:12<00:00, 42.46it/s]\n",
      "  1%|          | 5/512 [00:00<00:11, 42.95it/s]"
     ]
    },
    {
     "name": "stdout",
     "output_type": "stream",
     "text": [
      "0.6174247910106613\n",
      "Depth: 18\n"
     ]
    },
    {
     "name": "stderr",
     "output_type": "stream",
     "text": [
      "100%|██████████| 512/512 [00:12<00:00, 42.32it/s]\n",
      "  1%|          | 5/512 [00:00<00:11, 43.34it/s]"
     ]
    },
    {
     "name": "stdout",
     "output_type": "stream",
     "text": [
      "0.6336162435114916\n",
      "Depth: 19\n"
     ]
    },
    {
     "name": "stderr",
     "output_type": "stream",
     "text": [
      "100%|██████████| 512/512 [00:11<00:00, 43.38it/s]\n",
      "  1%|          | 5/512 [00:00<00:11, 43.24it/s]"
     ]
    },
    {
     "name": "stdout",
     "output_type": "stream",
     "text": [
      "0.6572083093422039\n",
      "Depth: 20\n"
     ]
    },
    {
     "name": "stderr",
     "output_type": "stream",
     "text": [
      "100%|██████████| 512/512 [00:12<00:00, 41.34it/s]\n",
      "  1%|          | 5/512 [00:00<00:11, 42.54it/s]"
     ]
    },
    {
     "name": "stdout",
     "output_type": "stream",
     "text": [
      "0.6825039059952961\n",
      "Depth: 21\n"
     ]
    },
    {
     "name": "stderr",
     "output_type": "stream",
     "text": [
      "100%|██████████| 512/512 [00:12<00:00, 42.32it/s]\n",
      "  1%|          | 5/512 [00:00<00:12, 41.70it/s]"
     ]
    },
    {
     "name": "stdout",
     "output_type": "stream",
     "text": [
      "0.7136301411401207\n",
      "Depth: 22\n"
     ]
    },
    {
     "name": "stderr",
     "output_type": "stream",
     "text": [
      "100%|██████████| 512/512 [00:12<00:00, 41.12it/s]\n",
      "  1%|          | 4/512 [00:00<00:13, 38.91it/s]"
     ]
    },
    {
     "name": "stdout",
     "output_type": "stream",
     "text": [
      "0.7502743786101315\n",
      "Depth: 23\n"
     ]
    },
    {
     "name": "stderr",
     "output_type": "stream",
     "text": [
      "100%|██████████| 512/512 [00:12<00:00, 41.49it/s]\n",
      "  1%|          | 5/512 [00:00<00:12, 42.02it/s]"
     ]
    },
    {
     "name": "stdout",
     "output_type": "stream",
     "text": [
      "0.7808826844135244\n",
      "Depth: 24\n"
     ]
    },
    {
     "name": "stderr",
     "output_type": "stream",
     "text": [
      "100%|██████████| 512/512 [00:12<00:00, 41.72it/s]\n",
      "  1%|          | 5/512 [00:00<00:11, 42.33it/s]"
     ]
    },
    {
     "name": "stdout",
     "output_type": "stream",
     "text": [
      "0.8040928506336449\n",
      "Depth: 25\n"
     ]
    },
    {
     "name": "stderr",
     "output_type": "stream",
     "text": [
      "100%|██████████| 512/512 [00:12<00:00, 41.98it/s]\n",
      "  1%|          | 5/512 [00:00<00:11, 43.59it/s]"
     ]
    },
    {
     "name": "stdout",
     "output_type": "stream",
     "text": [
      "0.8213474062593771\n",
      "Depth: 26\n"
     ]
    },
    {
     "name": "stderr",
     "output_type": "stream",
     "text": [
      "100%|██████████| 512/512 [00:12<00:00, 42.40it/s]\n",
      "  1%|          | 5/512 [00:00<00:11, 44.10it/s]"
     ]
    },
    {
     "name": "stdout",
     "output_type": "stream",
     "text": [
      "0.8340265774291508\n",
      "Depth: 27\n"
     ]
    },
    {
     "name": "stderr",
     "output_type": "stream",
     "text": [
      "100%|██████████| 512/512 [00:11<00:00, 42.71it/s]\n",
      "  1%|          | 5/512 [00:00<00:11, 42.28it/s]"
     ]
    },
    {
     "name": "stdout",
     "output_type": "stream",
     "text": [
      "0.8322119206674145\n",
      "Depth: 28\n"
     ]
    },
    {
     "name": "stderr",
     "output_type": "stream",
     "text": [
      "100%|██████████| 512/512 [00:12<00:00, 42.28it/s]\n",
      "  1%|          | 5/512 [00:00<00:11, 42.35it/s]"
     ]
    },
    {
     "name": "stdout",
     "output_type": "stream",
     "text": [
      "0.8275553885451503\n",
      "Depth: 29\n"
     ]
    },
    {
     "name": "stderr",
     "output_type": "stream",
     "text": [
      "100%|██████████| 512/512 [00:12<00:00, 40.88it/s]\n",
      "  1%|          | 4/512 [00:00<00:13, 37.51it/s]"
     ]
    },
    {
     "name": "stdout",
     "output_type": "stream",
     "text": [
      "0.8310017697047836\n",
      "Depth: 30\n"
     ]
    },
    {
     "name": "stderr",
     "output_type": "stream",
     "text": [
      "100%|██████████| 512/512 [00:11<00:00, 43.26it/s]\n",
      "  1%|          | 5/512 [00:00<00:11, 44.99it/s]"
     ]
    },
    {
     "name": "stdout",
     "output_type": "stream",
     "text": [
      "0.8352485649556782\n",
      "Depth: 31\n"
     ]
    },
    {
     "name": "stderr",
     "output_type": "stream",
     "text": [
      "100%|██████████| 512/512 [00:12<00:00, 41.61it/s]\n"
     ]
    },
    {
     "name": "stdout",
     "output_type": "stream",
     "text": [
      "0.8426497839561029\n"
     ]
    },
    {
     "name": "stderr",
     "output_type": "stream",
     "text": [
      "100%|██████████| 128/128 [00:46<00:00,  2.74it/s]\n"
     ]
    },
    {
     "name": "stdout",
     "output_type": "stream",
     "text": [
      "Depth: 0\n",
      "Depth: 1\n",
      "Depth: 2\n",
      "Depth: 3\n",
      "Depth: 4\n",
      "Depth: 5\n",
      "Depth: 6\n",
      "Depth: 7\n",
      "Depth: 8\n",
      "Depth: 9\n",
      "Depth: 10\n",
      "Depth: 11\n",
      "Depth: 12\n",
      "Depth: 13\n",
      "Depth: 14\n",
      "Depth: 15\n",
      "Depth: 16\n",
      "Depth: 17\n",
      "Depth: 18\n",
      "Depth: 19\n",
      "Depth: 20\n",
      "Depth: 21\n",
      "Depth: 22\n",
      "Depth: 23\n",
      "Depth: 24\n"
     ]
    },
    {
     "name": "stderr",
     "output_type": "stream",
     "text": [
      "\r",
      "  0%|          | 0/512 [00:00<?, ?it/s]"
     ]
    },
    {
     "name": "stdout",
     "output_type": "stream",
     "text": [
      "Depth: 25\n",
      "Depth: 26\n",
      "Depth: 27\n",
      "Depth: 28\n",
      "Depth: 29\n",
      "Depth: 30\n",
      "Depth: 31\n",
      "Depth: 0\n"
     ]
    },
    {
     "name": "stderr",
     "output_type": "stream",
     "text": [
      "100%|██████████| 512/512 [00:12<00:00, 39.57it/s]\n",
      "  1%|          | 5/512 [00:00<00:12, 40.89it/s]"
     ]
    },
    {
     "name": "stdout",
     "output_type": "stream",
     "text": [
      "0.13676085670506358\n",
      "Depth: 1\n"
     ]
    },
    {
     "name": "stderr",
     "output_type": "stream",
     "text": [
      "100%|██████████| 512/512 [00:12<00:00, 40.78it/s]\n",
      "  1%|          | 4/512 [00:00<00:13, 38.92it/s]"
     ]
    },
    {
     "name": "stdout",
     "output_type": "stream",
     "text": [
      "0.1364337842890394\n",
      "Depth: 2\n"
     ]
    },
    {
     "name": "stderr",
     "output_type": "stream",
     "text": [
      "100%|██████████| 512/512 [00:13<00:00, 39.32it/s]\n",
      "  1%|          | 4/512 [00:00<00:13, 38.55it/s]"
     ]
    },
    {
     "name": "stdout",
     "output_type": "stream",
     "text": [
      "0.15130984635655848\n",
      "Depth: 3\n"
     ]
    },
    {
     "name": "stderr",
     "output_type": "stream",
     "text": [
      "100%|██████████| 512/512 [00:12<00:00, 40.39it/s]\n",
      "  1%|          | 5/512 [00:00<00:12, 41.88it/s]"
     ]
    },
    {
     "name": "stdout",
     "output_type": "stream",
     "text": [
      "0.1721117143236464\n",
      "Depth: 4\n"
     ]
    },
    {
     "name": "stderr",
     "output_type": "stream",
     "text": [
      "100%|██████████| 512/512 [00:12<00:00, 41.47it/s]\n",
      "  1%|          | 5/512 [00:00<00:12, 41.03it/s]"
     ]
    },
    {
     "name": "stdout",
     "output_type": "stream",
     "text": [
      "0.2008497511179983\n",
      "Depth: 5\n"
     ]
    },
    {
     "name": "stderr",
     "output_type": "stream",
     "text": [
      "100%|██████████| 512/512 [00:12<00:00, 41.39it/s]\n",
      "  1%|          | 5/512 [00:00<00:12, 42.05it/s]"
     ]
    },
    {
     "name": "stdout",
     "output_type": "stream",
     "text": [
      "0.24059217296124136\n",
      "Depth: 6\n"
     ]
    },
    {
     "name": "stderr",
     "output_type": "stream",
     "text": [
      "100%|██████████| 512/512 [00:12<00:00, 40.23it/s]\n",
      "  1%|          | 5/512 [00:00<00:12, 41.01it/s]"
     ]
    },
    {
     "name": "stdout",
     "output_type": "stream",
     "text": [
      "0.27544867690327707\n",
      "Depth: 7\n"
     ]
    },
    {
     "name": "stderr",
     "output_type": "stream",
     "text": [
      "100%|██████████| 512/512 [00:12<00:00, 40.95it/s]\n",
      "  1%|          | 5/512 [00:00<00:12, 40.74it/s]"
     ]
    },
    {
     "name": "stdout",
     "output_type": "stream",
     "text": [
      "0.3124937320212542\n",
      "Depth: 8\n"
     ]
    },
    {
     "name": "stderr",
     "output_type": "stream",
     "text": [
      "100%|██████████| 512/512 [00:12<00:00, 39.89it/s]\n",
      "  1%|          | 5/512 [00:00<00:12, 41.39it/s]"
     ]
    },
    {
     "name": "stdout",
     "output_type": "stream",
     "text": [
      "0.3456341164780351\n",
      "Depth: 9\n"
     ]
    },
    {
     "name": "stderr",
     "output_type": "stream",
     "text": [
      "100%|██████████| 512/512 [00:12<00:00, 40.22it/s]\n",
      "  1%|          | 4/512 [00:00<00:14, 35.90it/s]"
     ]
    },
    {
     "name": "stdout",
     "output_type": "stream",
     "text": [
      "0.3736848750432299\n",
      "Depth: 10\n"
     ]
    },
    {
     "name": "stderr",
     "output_type": "stream",
     "text": [
      "100%|██████████| 512/512 [00:12<00:00, 41.02it/s]\n",
      "  1%|          | 5/512 [00:00<00:12, 41.78it/s]"
     ]
    },
    {
     "name": "stdout",
     "output_type": "stream",
     "text": [
      "0.39591953044925154\n",
      "Depth: 11\n"
     ]
    },
    {
     "name": "stderr",
     "output_type": "stream",
     "text": [
      "100%|██████████| 512/512 [00:12<00:00, 40.64it/s]\n",
      "  1%|          | 4/512 [00:00<00:13, 37.64it/s]"
     ]
    },
    {
     "name": "stdout",
     "output_type": "stream",
     "text": [
      "0.4221447013074584\n",
      "Depth: 12\n"
     ]
    },
    {
     "name": "stderr",
     "output_type": "stream",
     "text": [
      "100%|██████████| 512/512 [00:12<00:00, 41.41it/s]\n",
      "  1%|          | 4/512 [00:00<00:14, 36.23it/s]"
     ]
    },
    {
     "name": "stdout",
     "output_type": "stream",
     "text": [
      "0.45585576453574794\n",
      "Depth: 13\n"
     ]
    },
    {
     "name": "stderr",
     "output_type": "stream",
     "text": [
      "100%|██████████| 512/512 [00:12<00:00, 41.84it/s]\n",
      "  1%|          | 5/512 [00:00<00:12, 42.02it/s]"
     ]
    },
    {
     "name": "stdout",
     "output_type": "stream",
     "text": [
      "0.4917452276787544\n",
      "Depth: 14\n"
     ]
    },
    {
     "name": "stderr",
     "output_type": "stream",
     "text": [
      "100%|██████████| 512/512 [00:12<00:00, 42.09it/s]\n",
      "  1%|          | 4/512 [00:00<00:14, 34.29it/s]"
     ]
    },
    {
     "name": "stdout",
     "output_type": "stream",
     "text": [
      "0.5245810636584303\n",
      "Depth: 15\n"
     ]
    },
    {
     "name": "stderr",
     "output_type": "stream",
     "text": [
      "100%|██████████| 512/512 [00:12<00:00, 41.56it/s]\n",
      "  1%|          | 4/512 [00:00<00:13, 36.93it/s]"
     ]
    },
    {
     "name": "stdout",
     "output_type": "stream",
     "text": [
      "0.5518872277363999\n",
      "Depth: 16\n"
     ]
    },
    {
     "name": "stderr",
     "output_type": "stream",
     "text": [
      "100%|██████████| 512/512 [00:12<00:00, 39.78it/s]\n",
      "  1%|          | 5/512 [00:00<00:12, 41.70it/s]"
     ]
    },
    {
     "name": "stdout",
     "output_type": "stream",
     "text": [
      "0.5717298454746319\n",
      "Depth: 17\n"
     ]
    },
    {
     "name": "stderr",
     "output_type": "stream",
     "text": [
      "100%|██████████| 512/512 [00:12<00:00, 41.73it/s]\n",
      "  1%|          | 5/512 [00:00<00:12, 41.79it/s]"
     ]
    },
    {
     "name": "stdout",
     "output_type": "stream",
     "text": [
      "0.5839525420027013\n",
      "Depth: 18\n"
     ]
    },
    {
     "name": "stderr",
     "output_type": "stream",
     "text": [
      "100%|██████████| 512/512 [00:12<00:00, 41.08it/s]\n",
      "  1%|          | 5/512 [00:00<00:12, 41.35it/s]"
     ]
    },
    {
     "name": "stdout",
     "output_type": "stream",
     "text": [
      "0.5999407905413479\n",
      "Depth: 19\n"
     ]
    },
    {
     "name": "stderr",
     "output_type": "stream",
     "text": [
      "100%|██████████| 512/512 [00:12<00:00, 40.91it/s]\n",
      "  1%|          | 4/512 [00:00<00:13, 38.22it/s]"
     ]
    },
    {
     "name": "stdout",
     "output_type": "stream",
     "text": [
      "0.6266752155773063\n",
      "Depth: 20\n"
     ]
    },
    {
     "name": "stderr",
     "output_type": "stream",
     "text": [
      "100%|██████████| 512/512 [00:12<00:00, 40.52it/s]\n",
      "  1%|          | 4/512 [00:00<00:13, 37.15it/s]"
     ]
    },
    {
     "name": "stdout",
     "output_type": "stream",
     "text": [
      "0.6548961878638313\n",
      "Depth: 21\n"
     ]
    },
    {
     "name": "stderr",
     "output_type": "stream",
     "text": [
      "100%|██████████| 512/512 [00:12<00:00, 40.83it/s]\n",
      "  1%|          | 5/512 [00:00<00:12, 40.26it/s]"
     ]
    },
    {
     "name": "stdout",
     "output_type": "stream",
     "text": [
      "0.6867685103007015\n",
      "Depth: 22\n"
     ]
    },
    {
     "name": "stderr",
     "output_type": "stream",
     "text": [
      "100%|██████████| 512/512 [00:12<00:00, 41.23it/s]\n",
      "  1%|          | 5/512 [00:00<00:11, 42.82it/s]"
     ]
    },
    {
     "name": "stdout",
     "output_type": "stream",
     "text": [
      "0.7248539962168816\n",
      "Depth: 23\n"
     ]
    },
    {
     "name": "stderr",
     "output_type": "stream",
     "text": [
      "100%|██████████| 512/512 [00:12<00:00, 41.11it/s]\n",
      "  1%|          | 4/512 [00:00<00:12, 39.68it/s]"
     ]
    },
    {
     "name": "stdout",
     "output_type": "stream",
     "text": [
      "0.7568975879726204\n",
      "Depth: 24\n"
     ]
    },
    {
     "name": "stderr",
     "output_type": "stream",
     "text": [
      "100%|██████████| 512/512 [00:12<00:00, 41.80it/s]\n",
      "  1%|          | 4/512 [00:00<00:12, 39.35it/s]"
     ]
    },
    {
     "name": "stdout",
     "output_type": "stream",
     "text": [
      "0.7814068302839371\n",
      "Depth: 25\n"
     ]
    },
    {
     "name": "stderr",
     "output_type": "stream",
     "text": [
      "100%|██████████| 512/512 [00:12<00:00, 41.28it/s]\n",
      "  1%|          | 5/512 [00:00<00:11, 42.40it/s]"
     ]
    },
    {
     "name": "stdout",
     "output_type": "stream",
     "text": [
      "0.7999145906083164\n",
      "Depth: 26\n"
     ]
    },
    {
     "name": "stderr",
     "output_type": "stream",
     "text": [
      "100%|██████████| 512/512 [00:12<00:00, 41.48it/s]\n",
      "  1%|          | 5/512 [00:00<00:12, 41.04it/s]"
     ]
    },
    {
     "name": "stdout",
     "output_type": "stream",
     "text": [
      "0.8147827103743517\n",
      "Depth: 27\n"
     ]
    },
    {
     "name": "stderr",
     "output_type": "stream",
     "text": [
      "100%|██████████| 512/512 [00:12<00:00, 41.83it/s]\n",
      "  1%|          | 5/512 [00:00<00:11, 42.42it/s]"
     ]
    },
    {
     "name": "stdout",
     "output_type": "stream",
     "text": [
      "0.8151321074096398\n",
      "Depth: 28\n"
     ]
    },
    {
     "name": "stderr",
     "output_type": "stream",
     "text": [
      "100%|██████████| 512/512 [00:11<00:00, 43.45it/s]\n",
      "  1%|          | 4/512 [00:00<00:15, 33.10it/s]"
     ]
    },
    {
     "name": "stdout",
     "output_type": "stream",
     "text": [
      "0.8123267601121655\n",
      "Depth: 29\n"
     ]
    },
    {
     "name": "stderr",
     "output_type": "stream",
     "text": [
      "100%|██████████| 512/512 [00:12<00:00, 41.47it/s]\n",
      "  1%|          | 5/512 [00:00<00:11, 44.24it/s]"
     ]
    },
    {
     "name": "stdout",
     "output_type": "stream",
     "text": [
      "0.8177497108040184\n",
      "Depth: 30\n"
     ]
    },
    {
     "name": "stderr",
     "output_type": "stream",
     "text": [
      "100%|██████████| 512/512 [00:11<00:00, 43.67it/s]\n",
      "  1%|          | 5/512 [00:00<00:11, 43.65it/s]"
     ]
    },
    {
     "name": "stdout",
     "output_type": "stream",
     "text": [
      "0.8228566284025771\n",
      "Depth: 31\n"
     ]
    },
    {
     "name": "stderr",
     "output_type": "stream",
     "text": [
      "100%|██████████| 512/512 [00:12<00:00, 42.38it/s]"
     ]
    },
    {
     "name": "stdout",
     "output_type": "stream",
     "text": [
      "0.8310521251784044\n"
     ]
    },
    {
     "name": "stderr",
     "output_type": "stream",
     "text": [
      "\n"
     ]
    }
   ],
   "source": [
    "losses_mae = []\n",
    "losses_emd = []\n",
    "\n",
    "with torch.no_grad():\n",
    "    for t in cfg.ts:\n",
    "        model, dataset, criterion = make(cfg, t, cfg.d_max)\n",
    "        y_trues, y_preds = getYTruePredPairs(model, dataset, batch_size=4, depth=cfg.d_max, time_steps=t)\n",
    "\n",
    "        \n",
    "        loss_mae = getLossPerDepth(y_trues, y_preds, criterion = mae_b, max_depth=cfg.d_max)\n",
    "        losses_mae.append(loss_mae)\n",
    "        \n",
    "        if criterion != None:\n",
    "            loss_emd = getLossPerDepth(y_trues, y_preds, criterion = multiple_wasserstein, max_depth=cfg.d_max)\n",
    "        losses_emd.append(loss_emd)"
   ]
  },
  {
   "cell_type": "code",
   "execution_count": 17,
   "metadata": {},
   "outputs": [],
   "source": [
    "np.save(f'mae_{cfg.mode}_{cfg.model}.npy', losses_mae)\n",
    "np.save(f'emd_{cfg.mode}_{cfg.model}.npy', losses_emd)"
   ]
  },
  {
   "cell_type": "code",
   "execution_count": 11,
   "metadata": {},
   "outputs": [
    {
     "data": {
      "text/plain": [
       "[<matplotlib.lines.Line2D at 0x7f776c255250>,\n",
       " <matplotlib.lines.Line2D at 0x7f776c255340>,\n",
       " <matplotlib.lines.Line2D at 0x7f776c255400>,\n",
       " <matplotlib.lines.Line2D at 0x7f776c2554c0>,\n",
       " <matplotlib.lines.Line2D at 0x7f776c255580>,\n",
       " <matplotlib.lines.Line2D at 0x7f776c255640>,\n",
       " <matplotlib.lines.Line2D at 0x7f776c255700>,\n",
       " <matplotlib.lines.Line2D at 0x7f776c2557c0>,\n",
       " <matplotlib.lines.Line2D at 0x7f776c255880>,\n",
       " <matplotlib.lines.Line2D at 0x7f776c255940>]"
      ]
     },
     "execution_count": 11,
     "metadata": {},
     "output_type": "execute_result"
    },
    {
     "data": {
      "image/png": "[encoded data removed]",
      "text/plain": [
       "<Figure size 432x288 with 1 Axes>"
      ]
     },
     "metadata": {
      "needs_background": "light"
     },
     "output_type": "display_data"
    }
   ],
   "source": [
    "plt.plot(np.array(losses_mae).T)"
   ]
  },
  {
   "cell_type": "code",
   "execution_count": 110,
   "metadata": {},
   "outputs": [
    {
     "name": "stderr",
     "output_type": "stream",
     "text": [
      "100%|██████████| 256/256 [00:19<00:00, 13.15it/s]\n"
     ]
    }
   ],
   "source": [
    "es = []\n",
    "for _ in tqdm(range(256)):\n",
    "    es.append(sliced_wasserstein(a, b, 1024))"
   ]
  },
  {
   "cell_type": "code",
   "execution_count": 140,
   "metadata": {},
   "outputs": [
    {
     "data": {
      "text/plain": [
       "array([0.24440796, 0.2161412 ])"
      ]
     },
     "execution_count": 140,
     "metadata": {},
     "output_type": "execute_result"
    }
   ],
   "source": [
    "np.mean(emds, axis=1)"
   ]
  },
  {
   "cell_type": "code",
   "execution_count": null,
   "metadata": {},
   "outputs": [],
   "source": [
    "\n",
    "d = 32\n",
    "ts = [32,30,28,25,20,16,8,4,2,1]\n",
    "\n",
    "clstm_losses_mae = np.zeros((d, len(ts)))\n",
    "\n",
    "\n",
    "for j, t in enumerate(ts):\n",
    "    print('Depth:', d, 'Time-step:', t)\n",
    "    model = getModel(nn.DataParallel(modules.CLSTM(1,64, directional=1)),\n",
    "                      folder='../models/weights/chaotic',\n",
    "                      model_file=f'CLSTM_t{t}_d{d}').to(device)\n",
    "    y_trues, y_preds = getYTruePredPairs(model, dataset, batch_size=8, depth=d, time_steps=t)\n",
    "\n",
    "    #loss_emd = getLossPerDepth(y_trues, y_preds, criterion=mae_b, max_depth=d)\n",
    "\n",
    "\n",
    "    clstm_losses_mae[:,j] = loss_mae\n",
    "\n",
    "    \n",
    "np.save('clstm_losses_mae_chaos', clstm_losses_mae)"
   ]
  },
  {
   "cell_type": "code",
   "execution_count": 10,
   "metadata": {},
   "outputs": [
    {
     "name": "stdout",
     "output_type": "stream",
     "text": [
      "/home/roland/Projekte/Masterthesis/Reconstructing3D/data/evaluation/mae_concentric_CLSTM.npy\n"
     ]
    },
    {
     "data": {
      "image/png": "[encoded data removed]",
      "text/plain": [
       "<Figure size 432x288 with 1 Axes>"
      ]
     },
     "metadata": {
      "needs_background": "light"
     },
     "output_type": "display_data"
    },
    {
     "name": "stdout",
     "output_type": "stream",
     "text": [
      "/home/roland/Projekte/Masterthesis/Reconstructing3D/data/evaluation/mae_chaotic_STLSTM.npy\n"
     ]
    },
    {
     "data": {
      "image/png": "[encoded data removed]",
      "text/plain": [
       "<Figure size 432x288 with 1 Axes>"
      ]
     },
     "metadata": {
      "needs_background": "light"
     },
     "output_type": "display_data"
    },
    {
     "name": "stdout",
     "output_type": "stream",
     "text": [
      "/home/roland/Projekte/Masterthesis/Reconstructing3D/data/evaluation/mae_chaotic_CLSTM.npy\n"
     ]
    },
    {
     "data": {
      "image/png": "[encoded data removed]",
      "text/plain": [
       "<Figure size 432x288 with 1 Axes>"
      ]
     },
     "metadata": {
      "needs_background": "light"
     },
     "output_type": "display_data"
    },
    {
     "name": "stdout",
     "output_type": "stream",
     "text": [
      "/home/roland/Projekte/Masterthesis/Reconstructing3D/data/evaluation/emd_concentric_STLSTM.npy\n"
     ]
    },
    {
     "data": {
      "image/png": "[encoded data removed]",
      "text/plain": [
       "<Figure size 432x288 with 1 Axes>"
      ]
     },
     "metadata": {
      "needs_background": "light"
     },
     "output_type": "display_data"
    },
    {
     "name": "stdout",
     "output_type": "stream",
     "text": [
      "/home/roland/Projekte/Masterthesis/Reconstructing3D/data/evaluation/emd_concentric_CLSTM.npy\n"
     ]
    },
    {
     "data": {
      "image/png": "[encoded data removed]",
      "text/plain": [
       "<Figure size 432x288 with 1 Axes>"
      ]
     },
     "metadata": {
      "needs_background": "light"
     },
     "output_type": "display_data"
    },
    {
     "name": "stdout",
     "output_type": "stream",
     "text": [
      "/home/roland/Projekte/Masterthesis/Reconstructing3D/data/evaluation/mae_concentric_STLSTM.npy\n"
     ]
    },
    {
     "data": {
      "image/png": "[encoded data removed]",
      "text/plain": [
       "<Figure size 432x288 with 1 Axes>"
      ]
     },
     "metadata": {
      "needs_background": "light"
     },
     "output_type": "display_data"
    },
    {
     "name": "stdout",
     "output_type": "stream",
     "text": [
      "/home/roland/Projekte/Masterthesis/Reconstructing3D/data/evaluation/emd_chaotic_STLSTM.npy\n"
     ]
    },
    {
     "data": {
      "image/png": "[encoded data removed]",
      "text/plain": [
       "<Figure size 432x288 with 1 Axes>"
      ]
     },
     "metadata": {
      "needs_background": "light"
     },
     "output_type": "display_data"
    },
    {
     "name": "stdout",
     "output_type": "stream",
     "text": [
      "/home/roland/Projekte/Masterthesis/Reconstructing3D/data/evaluation/emd_chaotic_CLSTM.npy\n"
     ]
    },
    {
     "data": {
      "image/png": "[encoded data removed]",
      "text/plain": [
       "<Figure size 432x288 with 1 Axes>"
      ]
     },
     "metadata": {
      "needs_background": "light"
     },
     "output_type": "display_data"
    }
   ],
   "source": [
    "folder = '/home/roland/Projekte/Masterthesis/Reconstructing3D/data/evaluation/'\n",
    "files = glob.glob(folder + '*.npy')\n",
    "\n",
    "for file in files:\n",
    "    print(file)\n",
    "    d = np.load(file)\n",
    "    plt.plot(d.T)\n",
    "    plt.show()\n"
   ]
  },
  {
   "cell_type": "code",
   "execution_count": 8,
   "metadata": {},
   "outputs": [
    {
     "data": {
      "text/plain": [
       "[<matplotlib.lines.Line2D at 0x7fbc90182ac0>,\n",
       " <matplotlib.lines.Line2D at 0x7fbc90182bb0>,\n",
       " <matplotlib.lines.Line2D at 0x7fbc90182c70>,\n",
       " <matplotlib.lines.Line2D at 0x7fbc90182d30>,\n",
       " <matplotlib.lines.Line2D at 0x7fbc90182df0>,\n",
       " <matplotlib.lines.Line2D at 0x7fbc90182eb0>,\n",
       " <matplotlib.lines.Line2D at 0x7fbc90182f70>,\n",
       " <matplotlib.lines.Line2D at 0x7fbc9018e070>,\n",
       " <matplotlib.lines.Line2D at 0x7fbc9018e130>,\n",
       " <matplotlib.lines.Line2D at 0x7fbc9018e1f0>]"
      ]
     },
     "execution_count": 8,
     "metadata": {},
     "output_type": "execute_result"
    },
    {
     "data": {
      "image/png": "[encoded data removed]",
      "text/plain": [
       "<Figure size 432x288 with 1 Axes>"
      ]
     },
     "metadata": {
      "needs_background": "light"
     },
     "output_type": "display_data"
    }
   ],
   "source": [
    "plt.plot(d.T)"
   ]
  },
  {
   "cell_type": "code",
   "execution_count": null,
   "metadata": {},
   "outputs": [],
   "source": []
  }
 ],
 "metadata": {
  "kernelspec": {
   "display_name": "Python 3",
   "language": "python",
   "name": "python3"
  },
  "language_info": {
   "codemirror_mode": {
    "name": "ipython",
    "version": 3
   },
   "file_extension": ".py",
   "mimetype": "text/x-python",
   "name": "python",
   "nbconvert_exporter": "python",
   "pygments_lexer": "ipython3",
   "version": "3.8.5"
  }
 },
 "nbformat": 4,
 "nbformat_minor": 4
}
